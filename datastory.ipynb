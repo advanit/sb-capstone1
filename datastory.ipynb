{
 "cells": [
  {
   "cell_type": "markdown",
   "metadata": {},
   "source": [
    "## Exploratory Data Storytelling\n",
    "Pick a dataset (ideally the dataset for your Capstone). If for some reason you want to do this on a different data set, you can find one on Mode Analytics or Google's public data sets directory, or pick another one you like from elsewhere.\n",
    "\n",
    "Get going by asking the following questions and looking for the answers with some code and plots:\n",
    "* Can you count something interesting?\n",
    "* Can you find some trends (high, low, increase, decrease, anomalies)?\n",
    "* Can you make a bar plot or a histogram?\n",
    "* Can you compare two related quantities?\n",
    "* Can you make a scatterplot?\n",
    "* Can you make a time-series plot?\n",
    "\n",
    "Having made these plots, what are some insights you get from them? \n",
    "* Do you see any correlations? \n",
    "* Is there a hypothesis you would like to investigate further? \n",
    "* What other questions do they lead you to ask?\n",
    "\n",
    "By now you’ve asked a bunch of questions, and found some neat insights. \n",
    "* Is there an interesting narrative that tells a compelling story? \n",
    "* What are some other trends/relationships you think will make it more complete?\n",
    "\n",
    "Submission Requirements: The notebook should contain:\n",
    "\n",
    "* The questions you asked\n",
    "* The trends you investigated\n",
    "* The resulting visualizations and conclusions.\n",
    "\n",
    "If the data set is too large to commit, please include a link to the data set inside the Jupyter notebook."
   ]
  },
  {
   "cell_type": "code",
   "execution_count": 74,
   "metadata": {
    "collapsed": true
   },
   "outputs": [],
   "source": [
    "import glob\n",
    "import pandas as pd\n",
    "import numpy as np\n",
    "import matplotlib.pyplot as plt\n",
    "plt.style.use('ggplot')\n",
    "%matplotlib inline"
   ]
  },
  {
   "cell_type": "code",
   "execution_count": 3,
   "metadata": {
    "collapsed": true
   },
   "outputs": [],
   "source": [
    "sample = pd.read_csv('201608-citibike-tripdata.csv')"
   ]
  },
  {
   "cell_type": "code",
   "execution_count": 5,
   "metadata": {},
   "outputs": [
    {
     "data": {
      "text/plain": [
       "(1557663, 15)"
      ]
     },
     "execution_count": 5,
     "metadata": {},
     "output_type": "execute_result"
    }
   ],
   "source": [
    "sample.shape"
   ]
  },
  {
   "cell_type": "code",
   "execution_count": 8,
   "metadata": {},
   "outputs": [
    {
     "data": {
      "text/html": [
       "<div>\n",
       "<style>\n",
       "    .dataframe thead tr:only-child th {\n",
       "        text-align: right;\n",
       "    }\n",
       "\n",
       "    .dataframe thead th {\n",
       "        text-align: left;\n",
       "    }\n",
       "\n",
       "    .dataframe tbody tr th {\n",
       "        vertical-align: top;\n",
       "    }\n",
       "</style>\n",
       "<table border=\"1\" class=\"dataframe\">\n",
       "  <thead>\n",
       "    <tr style=\"text-align: right;\">\n",
       "      <th></th>\n",
       "      <th>tripduration</th>\n",
       "      <th>starttime</th>\n",
       "      <th>stoptime</th>\n",
       "      <th>start station id</th>\n",
       "      <th>start station name</th>\n",
       "      <th>start station latitude</th>\n",
       "      <th>start station longitude</th>\n",
       "      <th>end station id</th>\n",
       "      <th>end station name</th>\n",
       "      <th>end station latitude</th>\n",
       "      <th>end station longitude</th>\n",
       "      <th>bikeid</th>\n",
       "      <th>usertype</th>\n",
       "      <th>birth year</th>\n",
       "      <th>gender</th>\n",
       "    </tr>\n",
       "  </thead>\n",
       "  <tbody>\n",
       "    <tr>\n",
       "      <th>0</th>\n",
       "      <td>288</td>\n",
       "      <td>8/1/2016 00:01:22</td>\n",
       "      <td>8/1/2016 00:06:11</td>\n",
       "      <td>302</td>\n",
       "      <td>Avenue D &amp; E 3 St</td>\n",
       "      <td>41</td>\n",
       "      <td>-74</td>\n",
       "      <td>428</td>\n",
       "      <td>E 3 St &amp; 1 Ave</td>\n",
       "      <td>41</td>\n",
       "      <td>-74</td>\n",
       "      <td>16920</td>\n",
       "      <td>Subscriber</td>\n",
       "      <td>1961</td>\n",
       "      <td>1</td>\n",
       "    </tr>\n",
       "    <tr>\n",
       "      <th>1</th>\n",
       "      <td>457</td>\n",
       "      <td>8/1/2016 00:01:43</td>\n",
       "      <td>8/1/2016 00:09:21</td>\n",
       "      <td>285</td>\n",
       "      <td>Broadway &amp; E 14 St</td>\n",
       "      <td>41</td>\n",
       "      <td>-74</td>\n",
       "      <td>432</td>\n",
       "      <td>E 7 St &amp; Avenue A</td>\n",
       "      <td>41</td>\n",
       "      <td>-74</td>\n",
       "      <td>20084</td>\n",
       "      <td>Subscriber</td>\n",
       "      <td>1989</td>\n",
       "      <td>2</td>\n",
       "    </tr>\n",
       "    <tr>\n",
       "      <th>2</th>\n",
       "      <td>278</td>\n",
       "      <td>8/1/2016 00:02:10</td>\n",
       "      <td>8/1/2016 00:06:49</td>\n",
       "      <td>539</td>\n",
       "      <td>Metropolitan Ave &amp; Bedford Ave</td>\n",
       "      <td>41</td>\n",
       "      <td>-74</td>\n",
       "      <td>3096</td>\n",
       "      <td>Union Ave &amp; N 12 St</td>\n",
       "      <td>41</td>\n",
       "      <td>-74</td>\n",
       "      <td>18380</td>\n",
       "      <td>Subscriber</td>\n",
       "      <td>1971</td>\n",
       "      <td>1</td>\n",
       "    </tr>\n",
       "    <tr>\n",
       "      <th>3</th>\n",
       "      <td>862</td>\n",
       "      <td>8/1/2016 00:02:13</td>\n",
       "      <td>8/1/2016 00:16:36</td>\n",
       "      <td>280</td>\n",
       "      <td>E 10 St &amp; 5 Ave</td>\n",
       "      <td>41</td>\n",
       "      <td>-74</td>\n",
       "      <td>280</td>\n",
       "      <td>E 10 St &amp; 5 Ave</td>\n",
       "      <td>41</td>\n",
       "      <td>-74</td>\n",
       "      <td>24101</td>\n",
       "      <td>Subscriber</td>\n",
       "      <td>1995</td>\n",
       "      <td>1</td>\n",
       "    </tr>\n",
       "    <tr>\n",
       "      <th>4</th>\n",
       "      <td>407</td>\n",
       "      <td>8/1/2016 00:02:21</td>\n",
       "      <td>8/1/2016 00:09:09</td>\n",
       "      <td>161</td>\n",
       "      <td>LaGuardia Pl &amp; W 3 St</td>\n",
       "      <td>41</td>\n",
       "      <td>-74</td>\n",
       "      <td>428</td>\n",
       "      <td>E 3 St &amp; 1 Ave</td>\n",
       "      <td>41</td>\n",
       "      <td>-74</td>\n",
       "      <td>18949</td>\n",
       "      <td>Subscriber</td>\n",
       "      <td>1993</td>\n",
       "      <td>1</td>\n",
       "    </tr>\n",
       "  </tbody>\n",
       "</table>\n",
       "</div>"
      ],
      "text/plain": [
       "   tripduration          starttime           stoptime  start station id  \\\n",
       "0           288  8/1/2016 00:01:22  8/1/2016 00:06:11               302   \n",
       "1           457  8/1/2016 00:01:43  8/1/2016 00:09:21               285   \n",
       "2           278  8/1/2016 00:02:10  8/1/2016 00:06:49               539   \n",
       "3           862  8/1/2016 00:02:13  8/1/2016 00:16:36               280   \n",
       "4           407  8/1/2016 00:02:21  8/1/2016 00:09:09               161   \n",
       "\n",
       "               start station name  start station latitude  \\\n",
       "0               Avenue D & E 3 St                      41   \n",
       "1              Broadway & E 14 St                      41   \n",
       "2  Metropolitan Ave & Bedford Ave                      41   \n",
       "3                 E 10 St & 5 Ave                      41   \n",
       "4           LaGuardia Pl & W 3 St                      41   \n",
       "\n",
       "   start station longitude  end station id     end station name  \\\n",
       "0                      -74             428       E 3 St & 1 Ave   \n",
       "1                      -74             432    E 7 St & Avenue A   \n",
       "2                      -74            3096  Union Ave & N 12 St   \n",
       "3                      -74             280      E 10 St & 5 Ave   \n",
       "4                      -74             428       E 3 St & 1 Ave   \n",
       "\n",
       "   end station latitude  end station longitude  bikeid    usertype  \\\n",
       "0                    41                    -74   16920  Subscriber   \n",
       "1                    41                    -74   20084  Subscriber   \n",
       "2                    41                    -74   18380  Subscriber   \n",
       "3                    41                    -74   24101  Subscriber   \n",
       "4                    41                    -74   18949  Subscriber   \n",
       "\n",
       "   birth year  gender  \n",
       "0        1961       1  \n",
       "1        1989       2  \n",
       "2        1971       1  \n",
       "3        1995       1  \n",
       "4        1993       1  "
      ]
     },
     "execution_count": 8,
     "metadata": {},
     "output_type": "execute_result"
    }
   ],
   "source": [
    "sample.head()"
   ]
  },
  {
   "cell_type": "code",
   "execution_count": 7,
   "metadata": {
    "collapsed": true
   },
   "outputs": [],
   "source": [
    "pd.options.display.float_format = '{:.0f}'.format"
   ]
  },
  {
   "cell_type": "code",
   "execution_count": 9,
   "metadata": {
    "collapsed": true
   },
   "outputs": [],
   "source": [
    "sample['starttime'] = pd.to_datetime(sample['starttime'])"
   ]
  },
  {
   "cell_type": "code",
   "execution_count": 11,
   "metadata": {
    "collapsed": true
   },
   "outputs": [],
   "source": [
    "sample['stoptime'] = pd.to_datetime(sample['stoptime'])"
   ]
  },
  {
   "cell_type": "code",
   "execution_count": 12,
   "metadata": {},
   "outputs": [
    {
     "name": "stdout",
     "output_type": "stream",
     "text": [
      "<class 'pandas.core.frame.DataFrame'>\n",
      "RangeIndex: 1557663 entries, 0 to 1557662\n",
      "Data columns (total 15 columns):\n",
      "tripduration               1557663 non-null int64\n",
      "starttime                  1557663 non-null datetime64[ns]\n",
      "stoptime                   1557663 non-null datetime64[ns]\n",
      "start station id           1557663 non-null int64\n",
      "start station name         1557663 non-null object\n",
      "start station latitude     1557663 non-null float64\n",
      "start station longitude    1557663 non-null float64\n",
      "end station id             1557663 non-null int64\n",
      "end station name           1557663 non-null object\n",
      "end station latitude       1557663 non-null float64\n",
      "end station longitude      1557663 non-null float64\n",
      "bikeid                     1557663 non-null int64\n",
      "usertype                   1557663 non-null object\n",
      "birth year                 1343039 non-null float64\n",
      "gender                     1557663 non-null int64\n",
      "dtypes: datetime64[ns](2), float64(5), int64(5), object(3)\n",
      "memory usage: 178.3+ MB\n"
     ]
    }
   ],
   "source": [
    "sample.info()"
   ]
  },
  {
   "cell_type": "code",
   "execution_count": 13,
   "metadata": {},
   "outputs": [
    {
     "data": {
      "text/plain": [
       "tripduration                    0\n",
       "starttime                       0\n",
       "stoptime                        0\n",
       "start station id                0\n",
       "start station name              0\n",
       "start station latitude          0\n",
       "start station longitude         0\n",
       "end station id                  0\n",
       "end station name                0\n",
       "end station latitude            0\n",
       "end station longitude           0\n",
       "bikeid                          0\n",
       "usertype                        0\n",
       "birth year                 214624\n",
       "gender                          0\n",
       "dtype: int64"
      ]
     },
     "execution_count": 13,
     "metadata": {},
     "output_type": "execute_result"
    }
   ],
   "source": [
    "sample.isnull().sum()"
   ]
  },
  {
   "cell_type": "markdown",
   "metadata": {},
   "source": [
    "### PART 1 - Define Age Group\n",
    "This group will make it easier to work with birth year moving forward.  Rather than worry about 100 groups, this will focus on five.  \n",
    "\n",
    "* **0 UNK**: Those born before 1945\n",
    "* **1 SEN**: Those who are elderly, born between 1945 - 1960\n",
    "* **2 ADL**: Those born between 1960 - 1985\n",
    "* **3 JNR**: Those born between 1985 - 2000\n",
    "* **4 YNG**: Those born 2000 after"
   ]
  },
  {
   "cell_type": "code",
   "execution_count": 16,
   "metadata": {},
   "outputs": [
    {
     "data": {
      "text/plain": [
       "1343039"
      ]
     },
     "execution_count": 16,
     "metadata": {},
     "output_type": "execute_result"
    }
   ],
   "source": [
    "sample['birth year'].count()"
   ]
  },
  {
   "cell_type": "code",
   "execution_count": 132,
   "metadata": {},
   "outputs": [
    {
     "data": {
      "image/png": "[encoded data removed]",
      "text/plain": [
       "<matplotlib.figure.Figure at 0x1327f6f28>"
      ]
     },
     "metadata": {},
     "output_type": "display_data"
    }
   ],
   "source": [
    "# Comparing birth year to trip duration\n",
    "plt.scatter(sample['birth year'], sample['tripduration'])\n",
    "plt.xlabel('Birth Year')\n",
    "plt.ylabel('Trip Duration')\n",
    "plt.yscale('log')\n",
    "plt.show()"
   ]
  },
  {
   "cell_type": "code",
   "execution_count": 133,
   "metadata": {},
   "outputs": [],
   "source": [
    "def get_group(row):\n",
    "    if (row['birth year'] >= 2000):\n",
    "        return '4 YNG'\n",
    "    elif (row['birth year'] >= 1985) & (row['birth year'] < 2000):\n",
    "        return '3 JNR'\n",
    "    elif (row['birth year'] >= 1960) & (row['birth year'] < 1985):\n",
    "        return '2 ADL'\n",
    "    elif (row['birth year'] >= 1945) & (row['birth year'] < 1960):\n",
    "        return '1 SEN'\n",
    "    else :\n",
    "        return '0 UNK'"
   ]
  },
  {
   "cell_type": "code",
   "execution_count": 134,
   "metadata": {
    "collapsed": true
   },
   "outputs": [],
   "source": [
    "sample['agegroup'] = sample.apply(get_group, axis=1)"
   ]
  },
  {
   "cell_type": "code",
   "execution_count": 46,
   "metadata": {},
   "outputs": [
    {
     "data": {
      "text/plain": [
       "birth year\n",
       "1885     90\n",
       "1888     36\n",
       "1893      2\n",
       "1894      5\n",
       "1896      8\n",
       "1899     68\n",
       "1900    182\n",
       "1901     60\n",
       "1907      5\n",
       "1910     29\n",
       "1912      2\n",
       "1913     12\n",
       "1917     30\n",
       "1918     27\n",
       "1920      1\n",
       "1921     37\n",
       "1923     22\n",
       "1926     27\n",
       "1931      3\n",
       "1932     46\n",
       "1933     20\n",
       "1934     30\n",
       "1935     89\n",
       "1936     87\n",
       "1937     71\n",
       "1938    337\n",
       "1939    142\n",
       "1940    481\n",
       "1941    818\n",
       "1942    991\n",
       "1943    600\n",
       "1944    896\n",
       "dtype: int64"
      ]
     },
     "execution_count": 46,
     "metadata": {},
     "output_type": "execute_result"
    }
   ],
   "source": [
    "sample[sample['agegroup'] == '0 UNK'].groupby('birth year').size().sort_index()"
   ]
  },
  {
   "cell_type": "code",
   "execution_count": 82,
   "metadata": {},
   "outputs": [],
   "source": [
    "count_by_group = sample.groupby('agegroup')['agegroup'].count()\n",
    "x_pos=[0,1,2,3,4]\n",
    "agename=['Unknown', 'Seniors', 'Middle', 'Adults', 'Juniors', 'Young']"
   ]
  },
  {
   "cell_type": "code",
   "execution_count": 104,
   "metadata": {},
   "outputs": [
    {
     "data": {
      "image/png": "[encoded data removed]",
      "text/plain": [
       "<matplotlib.figure.Figure at 0x11ea969b0>"
      ]
     },
     "metadata": {},
     "output_type": "display_data"
    }
   ],
   "source": [
    "plt.barh(x_pos, count_by_group/1000, align = 'center', alpha = 0.75, color = 'orange')\n",
    "plt.yticks(x_pos, agename)\n",
    "plt.xlabel('Thousands of trips')\n",
    "plt.title('Distribution of trips according to age group')\n",
    "plt.show()"
   ]
  },
  {
   "cell_type": "markdown",
   "metadata": {},
   "source": [
    "This will look at trip duration by age group, in a boxplot format"
   ]
  },
  {
   "cell_type": "code",
   "execution_count": 105,
   "metadata": {},
   "outputs": [
    {
     "data": {
      "text/html": [
       "<div>\n",
       "<style>\n",
       "    .dataframe thead tr:only-child th {\n",
       "        text-align: right;\n",
       "    }\n",
       "\n",
       "    .dataframe thead th {\n",
       "        text-align: left;\n",
       "    }\n",
       "\n",
       "    .dataframe tbody tr th {\n",
       "        vertical-align: top;\n",
       "    }\n",
       "</style>\n",
       "<table border=\"1\" class=\"dataframe\">\n",
       "  <thead>\n",
       "    <tr style=\"text-align: right;\">\n",
       "      <th></th>\n",
       "      <th>count</th>\n",
       "      <th>mean</th>\n",
       "      <th>std</th>\n",
       "      <th>min</th>\n",
       "      <th>25%</th>\n",
       "      <th>50%</th>\n",
       "      <th>75%</th>\n",
       "      <th>max</th>\n",
       "    </tr>\n",
       "    <tr>\n",
       "      <th>agegroup</th>\n",
       "      <th></th>\n",
       "      <th></th>\n",
       "      <th></th>\n",
       "      <th></th>\n",
       "      <th></th>\n",
       "      <th></th>\n",
       "      <th></th>\n",
       "      <th></th>\n",
       "    </tr>\n",
       "  </thead>\n",
       "  <tbody>\n",
       "    <tr>\n",
       "      <th>0 UNK</th>\n",
       "      <td>219878</td>\n",
       "      <td>1825</td>\n",
       "      <td>18359</td>\n",
       "      <td>61</td>\n",
       "      <td>813</td>\n",
       "      <td>1256</td>\n",
       "      <td>1700</td>\n",
       "      <td>3966943</td>\n",
       "    </tr>\n",
       "    <tr>\n",
       "      <th>1 SEN</th>\n",
       "      <td>98826</td>\n",
       "      <td>903</td>\n",
       "      <td>10905</td>\n",
       "      <td>61</td>\n",
       "      <td>395</td>\n",
       "      <td>645</td>\n",
       "      <td>1079</td>\n",
       "      <td>3189634</td>\n",
       "    </tr>\n",
       "    <tr>\n",
       "      <th>2 ADL</th>\n",
       "      <td>732540</td>\n",
       "      <td>836</td>\n",
       "      <td>7134</td>\n",
       "      <td>61</td>\n",
       "      <td>376</td>\n",
       "      <td>608</td>\n",
       "      <td>1010</td>\n",
       "      <td>2497264</td>\n",
       "    </tr>\n",
       "    <tr>\n",
       "      <th>3 JNR</th>\n",
       "      <td>505780</td>\n",
       "      <td>836</td>\n",
       "      <td>8068</td>\n",
       "      <td>61</td>\n",
       "      <td>379</td>\n",
       "      <td>618</td>\n",
       "      <td>1019</td>\n",
       "      <td>3565469</td>\n",
       "    </tr>\n",
       "    <tr>\n",
       "      <th>4 YNG</th>\n",
       "      <td>639</td>\n",
       "      <td>945</td>\n",
       "      <td>793</td>\n",
       "      <td>62</td>\n",
       "      <td>393</td>\n",
       "      <td>744</td>\n",
       "      <td>1224</td>\n",
       "      <td>6835</td>\n",
       "    </tr>\n",
       "  </tbody>\n",
       "</table>\n",
       "</div>"
      ],
      "text/plain": [
       "          count  mean   std  min  25%  50%  75%     max\n",
       "agegroup                                               \n",
       "0 UNK    219878  1825 18359   61  813 1256 1700 3966943\n",
       "1 SEN     98826   903 10905   61  395  645 1079 3189634\n",
       "2 ADL    732540   836  7134   61  376  608 1010 2497264\n",
       "3 JNR    505780   836  8068   61  379  618 1019 3565469\n",
       "4 YNG       639   945   793   62  393  744 1224    6835"
      ]
     },
     "execution_count": 105,
     "metadata": {},
     "output_type": "execute_result"
    }
   ],
   "source": [
    "duration_by_group = sample.groupby('agegroup')['tripduration']\n",
    "duration_by_group.describe()"
   ]
  },
  {
   "cell_type": "code",
   "execution_count": 119,
   "metadata": {},
   "outputs": [
    {
     "data": {
      "text/plain": [
       "<matplotlib.axes._subplots.AxesSubplot at 0x122f6bb00>"
      ]
     },
     "execution_count": 119,
     "metadata": {},
     "output_type": "execute_result"
    },
    {
     "data": {
      "image/png": "[encoded data removed]",
      "text/plain": [
       "<matplotlib.figure.Figure at 0x1210e0160>"
      ]
     },
     "metadata": {},
     "output_type": "display_data"
    }
   ],
   "source": [
    "sample.boxplot(column='tripduration',by='agegroup')"
   ]
  },
  {
   "cell_type": "code",
   "execution_count": null,
   "metadata": {},
   "outputs": [],
   "source": [
    "plt.plot(x, x)\n",
    "plt.plot(x, 2 * x)\n",
    "plt.plot(x, 3 * x)\n",
    "plt.plot(x, 4 * x)\n",
    "plt.show()"
   ]
  },
  {
   "cell_type": "code",
   "execution_count": 135,
   "metadata": {},
   "outputs": [
    {
     "ename": "NameError",
     "evalue": "name 'df' is not defined",
     "output_type": "error",
     "traceback": [
      "\u001b[0;31m---------------------------------------------------------------------------\u001b[0m",
      "\u001b[0;31mNameError\u001b[0m                                 Traceback (most recent call last)",
      "\u001b[0;32m<ipython-input-135-ec7b41d611c3>\u001b[0m in \u001b[0;36m<module>\u001b[0;34m()\u001b[0m\n\u001b[1;32m      1\u001b[0m \u001b[0;31m# Calculate trip counts per hour on weekdays and weekends\u001b[0m\u001b[0;34m\u001b[0m\u001b[0;34m\u001b[0m\u001b[0m\n\u001b[0;32m----> 2\u001b[0;31m \u001b[0mdf_sub\u001b[0m \u001b[0;34m=\u001b[0m \u001b[0mdf\u001b[0m\u001b[0;34m.\u001b[0m\u001b[0mloc\u001b[0m\u001b[0;34m[\u001b[0m\u001b[0;34m:\u001b[0m\u001b[0;34m,\u001b[0m \u001b[0;34m[\u001b[0m\u001b[0;34m'tripduration'\u001b[0m\u001b[0;34m,\u001b[0m \u001b[0;34m'starttime'\u001b[0m\u001b[0;34m]\u001b[0m\u001b[0;34m]\u001b[0m \u001b[0;31m# Keep only 'starttime' and 'tripduration' variables\u001b[0m\u001b[0;34m\u001b[0m\u001b[0m\n\u001b[0m\u001b[1;32m      3\u001b[0m \u001b[0;31m# Index dataframe by 'datetime64' data in 'starttime' variable\u001b[0m\u001b[0;34m\u001b[0m\u001b[0;34m\u001b[0m\u001b[0m\n\u001b[1;32m      4\u001b[0m \u001b[0mdf_sub\u001b[0m\u001b[0;34m.\u001b[0m\u001b[0mindex\u001b[0m \u001b[0;34m=\u001b[0m \u001b[0mdf_sub\u001b[0m\u001b[0;34m[\u001b[0m\u001b[0;34m'starttime'\u001b[0m\u001b[0;34m]\u001b[0m\u001b[0;34m\u001b[0m\u001b[0m\n\u001b[1;32m      5\u001b[0m \u001b[0mweekdays\u001b[0m \u001b[0;34m=\u001b[0m \u001b[0mdf_sub\u001b[0m\u001b[0;34m[\u001b[0m\u001b[0mdf_sub\u001b[0m\u001b[0;34m.\u001b[0m\u001b[0mindex\u001b[0m\u001b[0;34m.\u001b[0m\u001b[0mweekday\u001b[0m \u001b[0;34m<\u001b[0m \u001b[0;36m5\u001b[0m\u001b[0;34m]\u001b[0m\u001b[0;34m\u001b[0m\u001b[0m\n",
      "\u001b[0;31mNameError\u001b[0m: name 'df' is not defined"
     ]
    }
   ],
   "source": [
    "# Calculate trip counts per hour on weekdays and weekends\n",
    "sample_sub = sample.loc[:, ['tripduration', 'starttime']] # Keep only 'starttime' and 'tripduration' variables\n",
    "\n",
    "# Index dataframe by 'datetime64' data in 'starttime' variable\n",
    "sample_sub.index = sample_sub['starttime']\n",
    "weekdays = sample_sub[sample_sub.index.weekday < 5]\n",
    "weekends = sample_sub[sample_sub.index.weekday > 4]\n",
    "weekdays_countsPerHr = weekdays.groupby(weekdays.index.hour).size()\n",
    "weekends_countsPerHr = weekends.groupby(weekends.index.hour).size()"
   ]
  },
  {
   "cell_type": "code",
   "execution_count": null,
   "metadata": {
    "collapsed": true
   },
   "outputs": [],
   "source": []
  }
 ],
 "metadata": {
  "kernelspec": {
   "display_name": "Python 3",
   "language": "python",
   "name": "python3"
  },
  "language_info": {
   "codemirror_mode": {
    "name": "ipython",
    "version": 3
   },
   "file_extension": ".py",
   "mimetype": "text/x-python",
   "name": "python",
   "nbconvert_exporter": "python",
   "pygments_lexer": "ipython3",
   "version": "3.6.1"
  }
 },
 "nbformat": 4,
 "nbformat_minor": 2
}
