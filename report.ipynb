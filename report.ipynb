{
 "cells": [
  {
   "cell_type": "markdown",
   "metadata": {},
   "source": [
    "# Jersey Bikes: Will It Slide? (TBD)\n",
    "\n",
    "*Citibike* started in 2013, first in New York City.  After several years, they expanded to Jersey City.  This year, *Citibike* expanded 15 ports and it is time to explore the data!  Let's learn more about how CitiBike has done after being in service.  \n",
    "\n",
    "## Proposal\n",
    "### citibike\n",
    "\n",
    "###  aim\n"
   ]
  },
  {
   "cell_type": "markdown",
   "metadata": {},
   "source": [
    "## Start\n",
    "### Dataset\n",
    "\n",
    "The CitiBike dataset is downloaded from their [Systems Data](https://www.citibikenyc.com/system-data) section.  Below is the \"starting\" sequence, a series of codes for us to work with as we continue.  Please note this is for the exploratory data analysis portion.  Other Python packages will download when needed."
   ]
  },
  {
   "cell_type": "code",
   "execution_count": 142,
   "metadata": {
    "collapsed": true
   },
   "outputs": [],
   "source": [
    "import glob"
   ]
  },
  {
   "cell_type": "code",
   "execution_count": 143,
   "metadata": {},
   "outputs": [
    {
     "name": "stdout",
     "output_type": "stream",
     "text": [
      "Reading 201608-citibike-tripdata.csv\n",
      "Reading 201610-citibike-tripdata.csv\n"
     ]
    }
   ],
   "source": [
    "# Get file names\n",
    "files = glob.glob('*.csv')\n",
    "\n",
    "import pandas as pd\n",
    "\n",
    "# Loop through file names and read the data\n",
    "dfs = []\n",
    "\n",
    "for file in files:\n",
    "    print('Reading ' + file)\n",
    "    newset = pd.read_csv(file)\n",
    "    if dfs == []:\n",
    "        newcol = newset.columns\n",
    "    else:\n",
    "        newset.columns = newcol\n",
    "    dfs.append(newset)"
   ]
  },
  {
   "cell_type": "code",
   "execution_count": 144,
   "metadata": {},
   "outputs": [
    {
     "data": {
      "text/html": [
       "<div>\n",
       "<style>\n",
       "    .dataframe thead tr:only-child th {\n",
       "        text-align: right;\n",
       "    }\n",
       "\n",
       "    .dataframe thead th {\n",
       "        text-align: left;\n",
       "    }\n",
       "\n",
       "    .dataframe tbody tr th {\n",
       "        vertical-align: top;\n",
       "    }\n",
       "</style>\n",
       "<table border=\"1\" class=\"dataframe\">\n",
       "  <thead>\n",
       "    <tr style=\"text-align: right;\">\n",
       "      <th></th>\n",
       "      <th>tripduration</th>\n",
       "      <th>starttime</th>\n",
       "      <th>stoptime</th>\n",
       "      <th>start station id</th>\n",
       "      <th>start station name</th>\n",
       "      <th>start station latitude</th>\n",
       "      <th>start station longitude</th>\n",
       "      <th>end station id</th>\n",
       "      <th>end station name</th>\n",
       "      <th>end station latitude</th>\n",
       "      <th>end station longitude</th>\n",
       "      <th>bikeid</th>\n",
       "      <th>usertype</th>\n",
       "      <th>birth year</th>\n",
       "      <th>gender</th>\n",
       "    </tr>\n",
       "  </thead>\n",
       "  <tbody>\n",
       "    <tr>\n",
       "      <th>0</th>\n",
       "      <td>288</td>\n",
       "      <td>8/1/2016 00:01:22</td>\n",
       "      <td>8/1/2016 00:06:11</td>\n",
       "      <td>302</td>\n",
       "      <td>Avenue D &amp; E 3 St</td>\n",
       "      <td>41</td>\n",
       "      <td>-74</td>\n",
       "      <td>428</td>\n",
       "      <td>E 3 St &amp; 1 Ave</td>\n",
       "      <td>41</td>\n",
       "      <td>-74</td>\n",
       "      <td>16920</td>\n",
       "      <td>Subscriber</td>\n",
       "      <td>1961</td>\n",
       "      <td>1</td>\n",
       "    </tr>\n",
       "    <tr>\n",
       "      <th>1</th>\n",
       "      <td>457</td>\n",
       "      <td>8/1/2016 00:01:43</td>\n",
       "      <td>8/1/2016 00:09:21</td>\n",
       "      <td>285</td>\n",
       "      <td>Broadway &amp; E 14 St</td>\n",
       "      <td>41</td>\n",
       "      <td>-74</td>\n",
       "      <td>432</td>\n",
       "      <td>E 7 St &amp; Avenue A</td>\n",
       "      <td>41</td>\n",
       "      <td>-74</td>\n",
       "      <td>20084</td>\n",
       "      <td>Subscriber</td>\n",
       "      <td>1989</td>\n",
       "      <td>2</td>\n",
       "    </tr>\n",
       "    <tr>\n",
       "      <th>2</th>\n",
       "      <td>278</td>\n",
       "      <td>8/1/2016 00:02:10</td>\n",
       "      <td>8/1/2016 00:06:49</td>\n",
       "      <td>539</td>\n",
       "      <td>Metropolitan Ave &amp; Bedford Ave</td>\n",
       "      <td>41</td>\n",
       "      <td>-74</td>\n",
       "      <td>3096</td>\n",
       "      <td>Union Ave &amp; N 12 St</td>\n",
       "      <td>41</td>\n",
       "      <td>-74</td>\n",
       "      <td>18380</td>\n",
       "      <td>Subscriber</td>\n",
       "      <td>1971</td>\n",
       "      <td>1</td>\n",
       "    </tr>\n",
       "    <tr>\n",
       "      <th>3</th>\n",
       "      <td>862</td>\n",
       "      <td>8/1/2016 00:02:13</td>\n",
       "      <td>8/1/2016 00:16:36</td>\n",
       "      <td>280</td>\n",
       "      <td>E 10 St &amp; 5 Ave</td>\n",
       "      <td>41</td>\n",
       "      <td>-74</td>\n",
       "      <td>280</td>\n",
       "      <td>E 10 St &amp; 5 Ave</td>\n",
       "      <td>41</td>\n",
       "      <td>-74</td>\n",
       "      <td>24101</td>\n",
       "      <td>Subscriber</td>\n",
       "      <td>1995</td>\n",
       "      <td>1</td>\n",
       "    </tr>\n",
       "    <tr>\n",
       "      <th>4</th>\n",
       "      <td>407</td>\n",
       "      <td>8/1/2016 00:02:21</td>\n",
       "      <td>8/1/2016 00:09:09</td>\n",
       "      <td>161</td>\n",
       "      <td>LaGuardia Pl &amp; W 3 St</td>\n",
       "      <td>41</td>\n",
       "      <td>-74</td>\n",
       "      <td>428</td>\n",
       "      <td>E 3 St &amp; 1 Ave</td>\n",
       "      <td>41</td>\n",
       "      <td>-74</td>\n",
       "      <td>18949</td>\n",
       "      <td>Subscriber</td>\n",
       "      <td>1993</td>\n",
       "      <td>1</td>\n",
       "    </tr>\n",
       "  </tbody>\n",
       "</table>\n",
       "</div>"
      ],
      "text/plain": [
       "   tripduration          starttime           stoptime  start station id  \\\n",
       "0           288  8/1/2016 00:01:22  8/1/2016 00:06:11               302   \n",
       "1           457  8/1/2016 00:01:43  8/1/2016 00:09:21               285   \n",
       "2           278  8/1/2016 00:02:10  8/1/2016 00:06:49               539   \n",
       "3           862  8/1/2016 00:02:13  8/1/2016 00:16:36               280   \n",
       "4           407  8/1/2016 00:02:21  8/1/2016 00:09:09               161   \n",
       "\n",
       "               start station name  start station latitude  \\\n",
       "0               Avenue D & E 3 St                      41   \n",
       "1              Broadway & E 14 St                      41   \n",
       "2  Metropolitan Ave & Bedford Ave                      41   \n",
       "3                 E 10 St & 5 Ave                      41   \n",
       "4           LaGuardia Pl & W 3 St                      41   \n",
       "\n",
       "   start station longitude  end station id     end station name  \\\n",
       "0                      -74             428       E 3 St & 1 Ave   \n",
       "1                      -74             432    E 7 St & Avenue A   \n",
       "2                      -74            3096  Union Ave & N 12 St   \n",
       "3                      -74             280      E 10 St & 5 Ave   \n",
       "4                      -74             428       E 3 St & 1 Ave   \n",
       "\n",
       "   end station latitude  end station longitude  bikeid    usertype  \\\n",
       "0                    41                    -74   16920  Subscriber   \n",
       "1                    41                    -74   20084  Subscriber   \n",
       "2                    41                    -74   18380  Subscriber   \n",
       "3                    41                    -74   24101  Subscriber   \n",
       "4                    41                    -74   18949  Subscriber   \n",
       "\n",
       "   birth year  gender  \n",
       "0        1961       1  \n",
       "1        1989       2  \n",
       "2        1971       1  \n",
       "3        1995       1  \n",
       "4        1993       1  "
      ]
     },
     "execution_count": 144,
     "metadata": {},
     "output_type": "execute_result"
    }
   ],
   "source": [
    "dfs[0].head()"
   ]
  },
  {
   "cell_type": "markdown",
   "metadata": {
    "collapsed": true
   },
   "source": [
    "Right now (09/19/17), two datasets merged to the list `dfs`, August 2016 and October 2016.  A data wrangling issue addressed at initiation is the header (i.e. attribute names).  Citibike may have changed the header names.  This may cause inconsistency.  So it's important that they are the same.  After dealing with headers, the data divides into five specific 'groups':\n",
    "\n",
    "* Trip (tripduration, start time, stop time)\n",
    "* Origin (station id, name, coordinates)\n",
    "* Destination (station id, name, coordinates)\n",
    "* Customer (type, birthyear, gender)\n",
    "* Bike (bike id)\n",
    "\n",
    "This doesn't include other factors (i.e. biketype, speed) and external attributes (i.e. weather, events).  However, that doesn't mean the project will use the entire dataset.  Coordinates is a perfect example, as they work best with mapping.  This project will not explore mapping.\n",
    "\n",
    "Each attribute is below; keep in mind:\n",
    "\n",
    "* Trip Duration (seconds)\n",
    "* User Type (Customer = 24-hour pass or 3-day pass user; Subscriber = Annual Member)\n",
    "* Gender (0=unknown; 1=male; 2=female)\n"
   ]
  },
  {
   "cell_type": "code",
   "execution_count": 145,
   "metadata": {},
   "outputs": [
    {
     "name": "stdout",
     "output_type": "stream",
     "text": [
      "<class 'pandas.core.frame.DataFrame'>\n",
      "RangeIndex: 1557663 entries, 0 to 1557662\n",
      "Data columns (total 15 columns):\n",
      "tripduration               1557663 non-null int64\n",
      "starttime                  1557663 non-null object\n",
      "stoptime                   1557663 non-null object\n",
      "start station id           1557663 non-null int64\n",
      "start station name         1557663 non-null object\n",
      "start station latitude     1557663 non-null float64\n",
      "start station longitude    1557663 non-null float64\n",
      "end station id             1557663 non-null int64\n",
      "end station name           1557663 non-null object\n",
      "end station latitude       1557663 non-null float64\n",
      "end station longitude      1557663 non-null float64\n",
      "bikeid                     1557663 non-null int64\n",
      "usertype                   1557663 non-null object\n",
      "birth year                 1343039 non-null float64\n",
      "gender                     1557663 non-null int64\n",
      "dtypes: float64(5), int64(5), object(5)\n",
      "memory usage: 178.3+ MB\n"
     ]
    }
   ],
   "source": [
    "dfs[0].info()"
   ]
  },
  {
   "cell_type": "markdown",
   "metadata": {
    "collapsed": true
   },
   "source": [
    "### Data Wrangling\n",
    "Create a short document (1-2 pages) in your github describing the data wrangling steps that you undertook to clean your capstone project data set. \n",
    "\n",
    "* What kind of cleaning steps did you perform? \n",
    "* How did you deal with missing values, if any? \n",
    "* Were there outliers, and how did you decide to handle them? \n",
    "\n",
    "This document will eventually become part of your milestone report.\n",
    "\n",
    "#### Reviewing Dataset\n",
    "Several issues arise:\n",
    "\n",
    "* Improper headers (`Trip Duration` for 10/16 vs `tripduration` 08/16)*\n",
    "* Improper birth year format (minor but still there)\n",
    "* Missing customer details (i.e. subscribers have birth year and gender, customers don't)\n",
    "* Improper datetime formats (`8/1/2016 00:01:22` vs `2016-10-01 00:00:07`)\n",
    "\n",
    "NOTE: Improper headers were resolved by using the first set's header when initializing the dataset.  If there were changes, i.e. new column, then further work would be done to deal with missing values from previous sets and work with future sets.  Here this is not the case, but having consistent headers is beneficial.  \n",
    "\n",
    "So let's deal with the dataset issues.\n",
    "\n",
    "#### Birth Year\n",
    "This is a simple conversion to format the float.  "
   ]
  },
  {
   "cell_type": "code",
   "execution_count": 146,
   "metadata": {},
   "outputs": [
    {
     "data": {
      "text/html": [
       "<div>\n",
       "<style>\n",
       "    .dataframe thead tr:only-child th {\n",
       "        text-align: right;\n",
       "    }\n",
       "\n",
       "    .dataframe thead th {\n",
       "        text-align: left;\n",
       "    }\n",
       "\n",
       "    .dataframe tbody tr th {\n",
       "        vertical-align: top;\n",
       "    }\n",
       "</style>\n",
       "<table border=\"1\" class=\"dataframe\">\n",
       "  <thead>\n",
       "    <tr style=\"text-align: right;\">\n",
       "      <th></th>\n",
       "      <th>tripduration</th>\n",
       "      <th>starttime</th>\n",
       "      <th>stoptime</th>\n",
       "      <th>start station id</th>\n",
       "      <th>start station name</th>\n",
       "      <th>start station latitude</th>\n",
       "      <th>start station longitude</th>\n",
       "      <th>end station id</th>\n",
       "      <th>end station name</th>\n",
       "      <th>end station latitude</th>\n",
       "      <th>end station longitude</th>\n",
       "      <th>bikeid</th>\n",
       "      <th>usertype</th>\n",
       "      <th>birth year</th>\n",
       "      <th>gender</th>\n",
       "    </tr>\n",
       "  </thead>\n",
       "  <tbody>\n",
       "    <tr>\n",
       "      <th>0</th>\n",
       "      <td>288</td>\n",
       "      <td>8/1/2016 00:01:22</td>\n",
       "      <td>8/1/2016 00:06:11</td>\n",
       "      <td>302</td>\n",
       "      <td>Avenue D &amp; E 3 St</td>\n",
       "      <td>41</td>\n",
       "      <td>-74</td>\n",
       "      <td>428</td>\n",
       "      <td>E 3 St &amp; 1 Ave</td>\n",
       "      <td>41</td>\n",
       "      <td>-74</td>\n",
       "      <td>16920</td>\n",
       "      <td>Subscriber</td>\n",
       "      <td>1961</td>\n",
       "      <td>1</td>\n",
       "    </tr>\n",
       "    <tr>\n",
       "      <th>1</th>\n",
       "      <td>457</td>\n",
       "      <td>8/1/2016 00:01:43</td>\n",
       "      <td>8/1/2016 00:09:21</td>\n",
       "      <td>285</td>\n",
       "      <td>Broadway &amp; E 14 St</td>\n",
       "      <td>41</td>\n",
       "      <td>-74</td>\n",
       "      <td>432</td>\n",
       "      <td>E 7 St &amp; Avenue A</td>\n",
       "      <td>41</td>\n",
       "      <td>-74</td>\n",
       "      <td>20084</td>\n",
       "      <td>Subscriber</td>\n",
       "      <td>1989</td>\n",
       "      <td>2</td>\n",
       "    </tr>\n",
       "    <tr>\n",
       "      <th>2</th>\n",
       "      <td>278</td>\n",
       "      <td>8/1/2016 00:02:10</td>\n",
       "      <td>8/1/2016 00:06:49</td>\n",
       "      <td>539</td>\n",
       "      <td>Metropolitan Ave &amp; Bedford Ave</td>\n",
       "      <td>41</td>\n",
       "      <td>-74</td>\n",
       "      <td>3096</td>\n",
       "      <td>Union Ave &amp; N 12 St</td>\n",
       "      <td>41</td>\n",
       "      <td>-74</td>\n",
       "      <td>18380</td>\n",
       "      <td>Subscriber</td>\n",
       "      <td>1971</td>\n",
       "      <td>1</td>\n",
       "    </tr>\n",
       "  </tbody>\n",
       "</table>\n",
       "</div>"
      ],
      "text/plain": [
       "   tripduration          starttime           stoptime  start station id  \\\n",
       "0           288  8/1/2016 00:01:22  8/1/2016 00:06:11               302   \n",
       "1           457  8/1/2016 00:01:43  8/1/2016 00:09:21               285   \n",
       "2           278  8/1/2016 00:02:10  8/1/2016 00:06:49               539   \n",
       "\n",
       "               start station name  start station latitude  \\\n",
       "0               Avenue D & E 3 St                      41   \n",
       "1              Broadway & E 14 St                      41   \n",
       "2  Metropolitan Ave & Bedford Ave                      41   \n",
       "\n",
       "   start station longitude  end station id     end station name  \\\n",
       "0                      -74             428       E 3 St & 1 Ave   \n",
       "1                      -74             432    E 7 St & Avenue A   \n",
       "2                      -74            3096  Union Ave & N 12 St   \n",
       "\n",
       "   end station latitude  end station longitude  bikeid    usertype  \\\n",
       "0                    41                    -74   16920  Subscriber   \n",
       "1                    41                    -74   20084  Subscriber   \n",
       "2                    41                    -74   18380  Subscriber   \n",
       "\n",
       "   birth year  gender  \n",
       "0        1961       1  \n",
       "1        1989       2  \n",
       "2        1971       1  "
      ]
     },
     "execution_count": 146,
     "metadata": {},
     "output_type": "execute_result"
    }
   ],
   "source": [
    "# Birth Year\n",
    "pd.options.display.float_format = '{:.0f}'.format\n",
    "dfs[0].head(3)"
   ]
  },
  {
   "cell_type": "markdown",
   "metadata": {},
   "source": [
    "#### Datetime\n",
    "This is tricky as some datasets have the date format differently than another.  "
   ]
  },
  {
   "cell_type": "code",
   "execution_count": 147,
   "metadata": {
    "collapsed": true
   },
   "outputs": [],
   "source": [
    "# Datetime \n",
    "dfs[0]['starttime'] = pd.to_datetime(dfs[0]['starttime'])"
   ]
  },
  {
   "cell_type": "code",
   "execution_count": 148,
   "metadata": {
    "collapsed": true
   },
   "outputs": [],
   "source": [
    "dfs[1]['stoptime'] = pd.to_datetime(dfs[1]['stoptime'])"
   ]
  },
  {
   "cell_type": "code",
   "execution_count": 149,
   "metadata": {
    "collapsed": true
   },
   "outputs": [],
   "source": [
    "dfs[0]['stoptime'] = pd.to_datetime(dfs[0]['stoptime'])"
   ]
  },
  {
   "cell_type": "code",
   "execution_count": 150,
   "metadata": {
    "collapsed": true
   },
   "outputs": [],
   "source": [
    "dfs[1]['starttime'] = pd.to_datetime(dfs[1]['starttime'])"
   ]
  },
  {
   "cell_type": "code",
   "execution_count": null,
   "metadata": {},
   "outputs": [],
   "source": []
  },
  {
   "cell_type": "code",
   "execution_count": 159,
   "metadata": {},
   "outputs": [],
   "source": [
    "# merge two lists together after finalizing date\n",
    "df = pd.concat(dfs)"
   ]
  },
  {
   "cell_type": "code",
   "execution_count": 160,
   "metadata": {
    "collapsed": true
   },
   "outputs": [],
   "source": [
    "# drop any duplicates in the data\n",
    "df = df.drop_duplicates()"
   ]
  },
  {
   "cell_type": "code",
   "execution_count": 161,
   "metadata": {},
   "outputs": [
    {
     "name": "stdout",
     "output_type": "stream",
     "text": [
      "<class 'pandas.core.frame.DataFrame'>\n",
      "Int64Index: 3131535 entries, 0 to 1573871\n",
      "Data columns (total 15 columns):\n",
      "tripduration               int64\n",
      "starttime                  datetime64[ns]\n",
      "stoptime                   datetime64[ns]\n",
      "start station id           int64\n",
      "start station name         object\n",
      "start station latitude     float64\n",
      "start station longitude    float64\n",
      "end station id             int64\n",
      "end station name           object\n",
      "end station latitude       float64\n",
      "end station longitude      float64\n",
      "bikeid                     int64\n",
      "usertype                   object\n",
      "birth year                 float64\n",
      "gender                     int64\n",
      "dtypes: datetime64[ns](2), float64(5), int64(5), object(3)\n",
      "memory usage: 382.3+ MB\n"
     ]
    }
   ],
   "source": [
    "# show datetime64[ns]\n",
    "df.info()"
   ]
  },
  {
   "cell_type": "code",
   "execution_count": null,
   "metadata": {},
   "outputs": [],
   "source": []
  },
  {
   "cell_type": "code",
   "execution_count": null,
   "metadata": {},
   "outputs": [],
   "source": []
  },
  {
   "cell_type": "code",
   "execution_count": 155,
   "metadata": {},
   "outputs": [
    {
     "data": {
      "text/plain": [
       "count   3131535\n",
       "mean        953\n",
       "std       12110\n",
       "min          61\n",
       "25%         394\n",
       "50%         656\n",
       "75%        1116\n",
       "max     8933552\n",
       "Name: tripduration, dtype: float64"
      ]
     },
     "execution_count": 155,
     "metadata": {},
     "output_type": "execute_result"
    }
   ],
   "source": [
    "# since trip duration is an actual measure, below shows the stats.  \n",
    "# Significant trips (25% - 75%) are between 394 sec (~6 min) to 656 sec (~11 min).\n",
    "# Notice max trip duration is ~9M seconds (103 days)\n",
    "# Outliers will be explored later in document\n",
    "df['tripduration'].describe()"
   ]
  },
  {
   "cell_type": "code",
   "execution_count": 152,
   "metadata": {},
   "outputs": [
    {
     "data": {
      "text/plain": [
       "(479, 15)"
      ]
     },
     "execution_count": 152,
     "metadata": {},
     "output_type": "execute_result"
    }
   ],
   "source": [
    "# One outlier type (via tripduration) shows 479 entries having a trip over 1 day\n",
    "df[df['tripduration'] > (24 * 60 * 60)].shape"
   ]
  },
  {
   "cell_type": "code",
   "execution_count": 153,
   "metadata": {},
   "outputs": [
    {
     "data": {
      "text/plain": [
       "(34211, 15)"
      ]
     },
     "execution_count": 153,
     "metadata": {},
     "output_type": "execute_result"
    }
   ],
   "source": [
    "# Another outlier type shows 34k trips with less than 2 minute (decide to keep or remove)\n",
    "df[df['tripduration'] <= 120].shape"
   ]
  },
  {
   "cell_type": "code",
   "execution_count": 154,
   "metadata": {},
   "outputs": [
    {
     "data": {
      "text/plain": [
       "Subscriber    2742004\n",
       "Customer       371582\n",
       "Name: usertype, dtype: int64"
      ]
     },
     "execution_count": 154,
     "metadata": {},
     "output_type": "execute_result"
    }
   ],
   "source": [
    "df['usertype'].value_counts()"
   ]
  },
  {
   "cell_type": "code",
   "execution_count": null,
   "metadata": {
    "collapsed": true
   },
   "outputs": [],
   "source": []
  },
  {
   "cell_type": "code",
   "execution_count": null,
   "metadata": {
    "collapsed": true
   },
   "outputs": [],
   "source": []
  },
  {
   "cell_type": "code",
   "execution_count": null,
   "metadata": {
    "collapsed": true
   },
   "outputs": [],
   "source": []
  },
  {
   "cell_type": "code",
   "execution_count": null,
   "metadata": {
    "collapsed": true
   },
   "outputs": [],
   "source": []
  },
  {
   "cell_type": "markdown",
   "metadata": {},
   "source": [
    "#### Missing Data\n",
    "First, which data is missing?  Missing data is identified as '' or `NaN`.  Luckily no missing data for times exist."
   ]
  },
  {
   "cell_type": "code",
   "execution_count": 162,
   "metadata": {},
   "outputs": [
    {
     "data": {
      "text/plain": [
       "tripduration                    0\n",
       "starttime                       0\n",
       "stoptime                        0\n",
       "start station id                0\n",
       "start station name              0\n",
       "start station latitude          0\n",
       "start station longitude         0\n",
       "end station id                  0\n",
       "end station name                0\n",
       "end station latitude            0\n",
       "end station longitude           0\n",
       "bikeid                          0\n",
       "usertype                    17949\n",
       "birth year                 382072\n",
       "gender                          0\n",
       "dtype: int64"
      ]
     },
     "execution_count": 162,
     "metadata": {},
     "output_type": "execute_result"
    }
   ],
   "source": [
    "# Missing Customer Details\n",
    "df.isnull().sum()"
   ]
  },
  {
   "cell_type": "markdown",
   "metadata": {},
   "source": [
    "The attributes `usertype` and `birth year` show a lot of missing data. `birth year` is the most important as this is what the analysis will be working with.  We'll perform two paths:\n",
    "\n",
    "* Drop all unnecessary values from the dataset: df_clean\n",
    "* Clean the data with estimations (i.e. no `birth year` and `usertype` = customer)"
   ]
  },
  {
   "cell_type": "code",
   "execution_count": 179,
   "metadata": {
    "collapsed": true
   },
   "outputs": [],
   "source": [
    "# Drop NA subset\n",
    "df_clean = df.dropna()\n",
    "df_pract = df"
   ]
  },
  {
   "cell_type": "code",
   "execution_count": 180,
   "metadata": {},
   "outputs": [
    {
     "data": {
      "text/plain": [
       "tripduration               0\n",
       "starttime                  0\n",
       "stoptime                   0\n",
       "start station id           0\n",
       "start station name         0\n",
       "start station latitude     0\n",
       "start station longitude    0\n",
       "end station id             0\n",
       "end station name           0\n",
       "end station latitude       0\n",
       "end station longitude      0\n",
       "bikeid                     0\n",
       "usertype                   0\n",
       "birth year                 0\n",
       "gender                     0\n",
       "dtype: int64"
      ]
     },
     "execution_count": 180,
     "metadata": {},
     "output_type": "execute_result"
    }
   ],
   "source": [
    "df_clean.isnull().sum()"
   ]
  },
  {
   "cell_type": "code",
   "execution_count": 195,
   "metadata": {},
   "outputs": [],
   "source": [
    "# Identify count for usertype & birth year is NaN\n",
    "# These are hypothetically customers as they don't include birth year\n",
    "dfc=df['birth year'].isnull() & df['usertype'].isnull()\n",
    "dfs=df['birth year'].notnull() & df['usertype'].isnull()"
   ]
  },
  {
   "cell_type": "code",
   "execution_count": 205,
   "metadata": {},
   "outputs": [],
   "source": [
    "# Fill those with no usertype & birth year as 'customer\n",
    "df_pract['usertype']=df_pract['usertype'].fillna('Subscriber')"
   ]
  },
  {
   "cell_type": "code",
   "execution_count": 204,
   "metadata": {},
   "outputs": [
    {
     "data": {
      "text/html": [
       "<div>\n",
       "<style>\n",
       "    .dataframe thead tr:only-child th {\n",
       "        text-align: right;\n",
       "    }\n",
       "\n",
       "    .dataframe thead th {\n",
       "        text-align: left;\n",
       "    }\n",
       "\n",
       "    .dataframe tbody tr th {\n",
       "        vertical-align: top;\n",
       "    }\n",
       "</style>\n",
       "<table border=\"1\" class=\"dataframe\">\n",
       "  <thead>\n",
       "    <tr style=\"text-align: right;\">\n",
       "      <th></th>\n",
       "      <th>tripduration</th>\n",
       "      <th>starttime</th>\n",
       "      <th>stoptime</th>\n",
       "      <th>start station id</th>\n",
       "      <th>start station name</th>\n",
       "      <th>start station latitude</th>\n",
       "      <th>start station longitude</th>\n",
       "      <th>end station id</th>\n",
       "      <th>end station name</th>\n",
       "      <th>end station latitude</th>\n",
       "      <th>end station longitude</th>\n",
       "      <th>bikeid</th>\n",
       "      <th>usertype</th>\n",
       "      <th>birth year</th>\n",
       "      <th>gender</th>\n",
       "    </tr>\n",
       "  </thead>\n",
       "  <tbody>\n",
       "    <tr>\n",
       "      <th>0</th>\n",
       "      <td>288</td>\n",
       "      <td>2016-08-01 00:01:22</td>\n",
       "      <td>2016-08-01 00:06:11</td>\n",
       "      <td>302</td>\n",
       "      <td>Avenue D &amp; E 3 St</td>\n",
       "      <td>41</td>\n",
       "      <td>-74</td>\n",
       "      <td>428</td>\n",
       "      <td>E 3 St &amp; 1 Ave</td>\n",
       "      <td>41</td>\n",
       "      <td>-74</td>\n",
       "      <td>16920</td>\n",
       "      <td>NaN</td>\n",
       "      <td>1961</td>\n",
       "      <td>1</td>\n",
       "    </tr>\n",
       "    <tr>\n",
       "      <th>1</th>\n",
       "      <td>457</td>\n",
       "      <td>2016-08-01 00:01:43</td>\n",
       "      <td>2016-08-01 00:09:21</td>\n",
       "      <td>285</td>\n",
       "      <td>Broadway &amp; E 14 St</td>\n",
       "      <td>41</td>\n",
       "      <td>-74</td>\n",
       "      <td>432</td>\n",
       "      <td>E 7 St &amp; Avenue A</td>\n",
       "      <td>41</td>\n",
       "      <td>-74</td>\n",
       "      <td>20084</td>\n",
       "      <td>NaN</td>\n",
       "      <td>1989</td>\n",
       "      <td>2</td>\n",
       "    </tr>\n",
       "    <tr>\n",
       "      <th>2</th>\n",
       "      <td>278</td>\n",
       "      <td>2016-08-01 00:02:10</td>\n",
       "      <td>2016-08-01 00:06:49</td>\n",
       "      <td>539</td>\n",
       "      <td>Metropolitan Ave &amp; Bedford Ave</td>\n",
       "      <td>41</td>\n",
       "      <td>-74</td>\n",
       "      <td>3096</td>\n",
       "      <td>Union Ave &amp; N 12 St</td>\n",
       "      <td>41</td>\n",
       "      <td>-74</td>\n",
       "      <td>18380</td>\n",
       "      <td>NaN</td>\n",
       "      <td>1971</td>\n",
       "      <td>1</td>\n",
       "    </tr>\n",
       "    <tr>\n",
       "      <th>3</th>\n",
       "      <td>862</td>\n",
       "      <td>2016-08-01 00:02:13</td>\n",
       "      <td>2016-08-01 00:16:36</td>\n",
       "      <td>280</td>\n",
       "      <td>E 10 St &amp; 5 Ave</td>\n",
       "      <td>41</td>\n",
       "      <td>-74</td>\n",
       "      <td>280</td>\n",
       "      <td>E 10 St &amp; 5 Ave</td>\n",
       "      <td>41</td>\n",
       "      <td>-74</td>\n",
       "      <td>24101</td>\n",
       "      <td>NaN</td>\n",
       "      <td>1995</td>\n",
       "      <td>1</td>\n",
       "    </tr>\n",
       "    <tr>\n",
       "      <th>4</th>\n",
       "      <td>407</td>\n",
       "      <td>2016-08-01 00:02:21</td>\n",
       "      <td>2016-08-01 00:09:09</td>\n",
       "      <td>161</td>\n",
       "      <td>LaGuardia Pl &amp; W 3 St</td>\n",
       "      <td>41</td>\n",
       "      <td>-74</td>\n",
       "      <td>428</td>\n",
       "      <td>E 3 St &amp; 1 Ave</td>\n",
       "      <td>41</td>\n",
       "      <td>-74</td>\n",
       "      <td>18949</td>\n",
       "      <td>NaN</td>\n",
       "      <td>1993</td>\n",
       "      <td>1</td>\n",
       "    </tr>\n",
       "  </tbody>\n",
       "</table>\n",
       "</div>"
      ],
      "text/plain": [
       "   tripduration           starttime            stoptime  start station id  \\\n",
       "0           288 2016-08-01 00:01:22 2016-08-01 00:06:11               302   \n",
       "1           457 2016-08-01 00:01:43 2016-08-01 00:09:21               285   \n",
       "2           278 2016-08-01 00:02:10 2016-08-01 00:06:49               539   \n",
       "3           862 2016-08-01 00:02:13 2016-08-01 00:16:36               280   \n",
       "4           407 2016-08-01 00:02:21 2016-08-01 00:09:09               161   \n",
       "\n",
       "               start station name  start station latitude  \\\n",
       "0               Avenue D & E 3 St                      41   \n",
       "1              Broadway & E 14 St                      41   \n",
       "2  Metropolitan Ave & Bedford Ave                      41   \n",
       "3                 E 10 St & 5 Ave                      41   \n",
       "4           LaGuardia Pl & W 3 St                      41   \n",
       "\n",
       "   start station longitude  end station id     end station name  \\\n",
       "0                      -74             428       E 3 St & 1 Ave   \n",
       "1                      -74             432    E 7 St & Avenue A   \n",
       "2                      -74            3096  Union Ave & N 12 St   \n",
       "3                      -74             280      E 10 St & 5 Ave   \n",
       "4                      -74             428       E 3 St & 1 Ave   \n",
       "\n",
       "   end station latitude  end station longitude  bikeid usertype  birth year  \\\n",
       "0                    41                    -74   16920      NaN        1961   \n",
       "1                    41                    -74   20084      NaN        1989   \n",
       "2                    41                    -74   18380      NaN        1971   \n",
       "3                    41                    -74   24101      NaN        1995   \n",
       "4                    41                    -74   18949      NaN        1993   \n",
       "\n",
       "   gender  \n",
       "0       1  \n",
       "1       2  \n",
       "2       1  \n",
       "3       1  \n",
       "4       1  "
      ]
     },
     "execution_count": 204,
     "metadata": {},
     "output_type": "execute_result"
    }
   ],
   "source": [
    "df_pract.head()"
   ]
  },
  {
   "cell_type": "code",
   "execution_count": 207,
   "metadata": {},
   "outputs": [
    {
     "data": {
      "text/plain": [
       "usertype\n",
       "Customer           45\n",
       "Subscriber    3131490\n",
       "dtype: int64"
      ]
     },
     "execution_count": 207,
     "metadata": {},
     "output_type": "execute_result"
    }
   ],
   "source": [
    "df_pract.groupby('usertype').size()"
   ]
  },
  {
   "cell_type": "code",
   "execution_count": null,
   "metadata": {
    "collapsed": true
   },
   "outputs": [],
   "source": []
  },
  {
   "cell_type": "code",
   "execution_count": null,
   "metadata": {
    "collapsed": true
   },
   "outputs": [],
   "source": []
  },
  {
   "cell_type": "code",
   "execution_count": null,
   "metadata": {},
   "outputs": [],
   "source": []
  },
  {
   "cell_type": "code",
   "execution_count": null,
   "metadata": {
    "collapsed": true
   },
   "outputs": [],
   "source": []
  },
  {
   "cell_type": "markdown",
   "metadata": {
    "collapsed": true
   },
   "source": [
    "Exploratory Data Analysis will explore outliers in depth.  "
   ]
  },
  {
   "cell_type": "markdown",
   "metadata": {
    "collapsed": true
   },
   "source": [
    "## Exploratory Data Storytelling\n",
    "Pick a dataset (ideally the dataset for your Capstone). If for some reason you want to do this on a different data set, you can find one on Mode Analytics or Google's public data sets directory, or pick another one you like from elsewhere.\n",
    "\n",
    "Get going by asking the following questions and looking for the answers with some code and plots:\n",
    "* Can you count something interesting?\n",
    "* Can you find some trends (high, low, increase, decrease, anomalies)?\n",
    "* Can you make a bar plot or a histogram?\n",
    "* Can you compare two related quantities?\n",
    "* Can you make a scatterplot?\n",
    "* Can you make a time-series plot?\n",
    "\n",
    "Having made these plots, what are some insights you get from them? \n",
    "* Do you see any correlations? \n",
    "* Is there a hypothesis you would like to investigate further? \n",
    "* What other questions do they lead you to ask?\n",
    "\n",
    "By now you’ve asked a bunch of questions, and found some neat insights. \n",
    "* Is there an interesting narrative that tells a compelling story? \n",
    "* What are some other trends/relationships you think will make it more complete?\n",
    "\n",
    "Submission Requirements: The notebook should contain:\n",
    "\n",
    "* The questions you asked\n",
    "* The trends you investigated\n",
    "* The resulting visualizations and conclusions.\n",
    "\n",
    "If the data set is too large to commit, please include a link to the data set inside the Jupyter notebook."
   ]
  },
  {
   "cell_type": "markdown",
   "metadata": {
    "collapsed": true
   },
   "source": [
    "### Exploring All Variables with Age\n",
    "Because of the year variable is an interest, this will focus on the interactions the attribute `year` has on other variables.  This will help lead to a story that may reflect the true nature of the dataset!"
   ]
  },
  {
   "cell_type": "code",
   "execution_count": null,
   "metadata": {
    "collapsed": true
   },
   "outputs": [],
   "source": []
  },
  {
   "cell_type": "markdown",
   "metadata": {},
   "source": [
    "## References\n",
    "1. Silva, Luis Vale.  \"Exploring NYC's Citbike: Or How to Make Interactive Maps with Python and Folium.\" *Data Simple.* Start 11/01/2015. Access 09/01/2017. URL: http://luisvalesilva.com/datasimple/citibike.html\n",
    "2. Jake VanderPlas.  \"Analyzing Pronto Cycleshare Data with Python and Pandas.\"  *Pythonic Perambulations.* Start 10/17/2015.  Access 09/09/2017. URL: https://jakevdp.github.io/blog/2015/10/17/analyzing-pronto-cycleshare-data-with-python-and-pandas/"
   ]
  },
  {
   "cell_type": "code",
   "execution_count": null,
   "metadata": {
    "collapsed": true
   },
   "outputs": [],
   "source": []
  }
 ],
 "metadata": {
  "kernelspec": {
   "display_name": "Python 3",
   "language": "python",
   "name": "python3"
  },
  "language_info": {
   "codemirror_mode": {
    "name": "ipython",
    "version": 3
   },
   "file_extension": ".py",
   "mimetype": "text/x-python",
   "name": "python",
   "nbconvert_exporter": "python",
   "pygments_lexer": "ipython3",
   "version": "3.6.1"
  }
 },
 "nbformat": 4,
 "nbformat_minor": 2
}
