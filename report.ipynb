{
 "cells": [
  {
   "cell_type": "markdown",
   "metadata": {},
   "source": [
    "# Jersey Bikes: Will It Slide? (TBD)\n",
    "\n",
    "*Citibike* started in 2013, first in New York City.  After several years, they expanded to Jersey City.  This year, *Citibike* expanded 15 ports and it is time to explore the data!  Let's learn more about how CitiBike has done after being in service.  \n",
    "\n",
    "## Proposal\n",
    "### citibike\n",
    "\n",
    "###  aim\n"
   ]
  },
  {
   "cell_type": "markdown",
   "metadata": {},
   "source": [
    "## Start\n",
    "### Dataset\n",
    "\n",
    "The CitiBike dataset is downloaded from their [Systems Data](https://www.citibikenyc.com/system-data) section.  Below is the \"starting\" sequence, a series of codes for us to work with as we continue.  Please note this is for the exploratory data analysis portion.  Other Python packages will download when needed."
   ]
  },
  {
   "cell_type": "code",
   "execution_count": 133,
   "metadata": {
    "collapsed": true
   },
   "outputs": [],
   "source": [
    "import glob\n",
    "import pandas as pd\n",
    "import numpy as np\n",
    "import matplotlib.pyplot as plt"
   ]
  },
  {
   "cell_type": "code",
   "execution_count": 134,
   "metadata": {},
   "outputs": [
    {
     "name": "stdout",
     "output_type": "stream",
     "text": [
      "Reading 201608-citibike-tripdata.csv\n",
      "Reading 201610-citibike-tripdata.csv\n"
     ]
    }
   ],
   "source": [
    "# Get file names\n",
    "files = glob.glob('*.csv')\n",
    "\n",
    "import pandas as pd\n",
    "\n",
    "# Loop through file names and read the data\n",
    "dfs = []\n",
    "\n",
    "for file in files:\n",
    "    print('Reading ' + file)\n",
    "    newset = pd.read_csv(file)\n",
    "    if dfs == []:\n",
    "        newcol = newset.columns\n",
    "    else:\n",
    "        newset.columns = newcol\n",
    "    dfs.append(newset)"
   ]
  },
  {
   "cell_type": "code",
   "execution_count": 136,
   "metadata": {},
   "outputs": [
    {
     "data": {
      "text/html": [
       "<div>\n",
       "<style>\n",
       "    .dataframe thead tr:only-child th {\n",
       "        text-align: right;\n",
       "    }\n",
       "\n",
       "    .dataframe thead th {\n",
       "        text-align: left;\n",
       "    }\n",
       "\n",
       "    .dataframe tbody tr th {\n",
       "        vertical-align: top;\n",
       "    }\n",
       "</style>\n",
       "<table border=\"1\" class=\"dataframe\">\n",
       "  <thead>\n",
       "    <tr style=\"text-align: right;\">\n",
       "      <th></th>\n",
       "      <th>tripduration</th>\n",
       "      <th>starttime</th>\n",
       "      <th>stoptime</th>\n",
       "      <th>start station id</th>\n",
       "      <th>start station name</th>\n",
       "      <th>start station latitude</th>\n",
       "      <th>start station longitude</th>\n",
       "      <th>end station id</th>\n",
       "      <th>end station name</th>\n",
       "      <th>end station latitude</th>\n",
       "      <th>end station longitude</th>\n",
       "      <th>bikeid</th>\n",
       "      <th>usertype</th>\n",
       "      <th>birth year</th>\n",
       "      <th>gender</th>\n",
       "    </tr>\n",
       "  </thead>\n",
       "  <tbody>\n",
       "    <tr>\n",
       "      <th>0</th>\n",
       "      <td>288</td>\n",
       "      <td>8/1/2016 00:01:22</td>\n",
       "      <td>8/1/2016 00:06:11</td>\n",
       "      <td>302</td>\n",
       "      <td>Avenue D &amp; E 3 St</td>\n",
       "      <td>41</td>\n",
       "      <td>-74</td>\n",
       "      <td>428</td>\n",
       "      <td>E 3 St &amp; 1 Ave</td>\n",
       "      <td>41</td>\n",
       "      <td>-74</td>\n",
       "      <td>16920</td>\n",
       "      <td>Subscriber</td>\n",
       "      <td>1961</td>\n",
       "      <td>1</td>\n",
       "    </tr>\n",
       "    <tr>\n",
       "      <th>1</th>\n",
       "      <td>457</td>\n",
       "      <td>8/1/2016 00:01:43</td>\n",
       "      <td>8/1/2016 00:09:21</td>\n",
       "      <td>285</td>\n",
       "      <td>Broadway &amp; E 14 St</td>\n",
       "      <td>41</td>\n",
       "      <td>-74</td>\n",
       "      <td>432</td>\n",
       "      <td>E 7 St &amp; Avenue A</td>\n",
       "      <td>41</td>\n",
       "      <td>-74</td>\n",
       "      <td>20084</td>\n",
       "      <td>Subscriber</td>\n",
       "      <td>1989</td>\n",
       "      <td>2</td>\n",
       "    </tr>\n",
       "    <tr>\n",
       "      <th>2</th>\n",
       "      <td>278</td>\n",
       "      <td>8/1/2016 00:02:10</td>\n",
       "      <td>8/1/2016 00:06:49</td>\n",
       "      <td>539</td>\n",
       "      <td>Metropolitan Ave &amp; Bedford Ave</td>\n",
       "      <td>41</td>\n",
       "      <td>-74</td>\n",
       "      <td>3096</td>\n",
       "      <td>Union Ave &amp; N 12 St</td>\n",
       "      <td>41</td>\n",
       "      <td>-74</td>\n",
       "      <td>18380</td>\n",
       "      <td>Subscriber</td>\n",
       "      <td>1971</td>\n",
       "      <td>1</td>\n",
       "    </tr>\n",
       "    <tr>\n",
       "      <th>3</th>\n",
       "      <td>862</td>\n",
       "      <td>8/1/2016 00:02:13</td>\n",
       "      <td>8/1/2016 00:16:36</td>\n",
       "      <td>280</td>\n",
       "      <td>E 10 St &amp; 5 Ave</td>\n",
       "      <td>41</td>\n",
       "      <td>-74</td>\n",
       "      <td>280</td>\n",
       "      <td>E 10 St &amp; 5 Ave</td>\n",
       "      <td>41</td>\n",
       "      <td>-74</td>\n",
       "      <td>24101</td>\n",
       "      <td>Subscriber</td>\n",
       "      <td>1995</td>\n",
       "      <td>1</td>\n",
       "    </tr>\n",
       "    <tr>\n",
       "      <th>4</th>\n",
       "      <td>407</td>\n",
       "      <td>8/1/2016 00:02:21</td>\n",
       "      <td>8/1/2016 00:09:09</td>\n",
       "      <td>161</td>\n",
       "      <td>LaGuardia Pl &amp; W 3 St</td>\n",
       "      <td>41</td>\n",
       "      <td>-74</td>\n",
       "      <td>428</td>\n",
       "      <td>E 3 St &amp; 1 Ave</td>\n",
       "      <td>41</td>\n",
       "      <td>-74</td>\n",
       "      <td>18949</td>\n",
       "      <td>Subscriber</td>\n",
       "      <td>1993</td>\n",
       "      <td>1</td>\n",
       "    </tr>\n",
       "  </tbody>\n",
       "</table>\n",
       "</div>"
      ],
      "text/plain": [
       "   tripduration          starttime           stoptime  start station id  \\\n",
       "0           288  8/1/2016 00:01:22  8/1/2016 00:06:11               302   \n",
       "1           457  8/1/2016 00:01:43  8/1/2016 00:09:21               285   \n",
       "2           278  8/1/2016 00:02:10  8/1/2016 00:06:49               539   \n",
       "3           862  8/1/2016 00:02:13  8/1/2016 00:16:36               280   \n",
       "4           407  8/1/2016 00:02:21  8/1/2016 00:09:09               161   \n",
       "\n",
       "               start station name  start station latitude  \\\n",
       "0               Avenue D & E 3 St                      41   \n",
       "1              Broadway & E 14 St                      41   \n",
       "2  Metropolitan Ave & Bedford Ave                      41   \n",
       "3                 E 10 St & 5 Ave                      41   \n",
       "4           LaGuardia Pl & W 3 St                      41   \n",
       "\n",
       "   start station longitude  end station id     end station name  \\\n",
       "0                      -74             428       E 3 St & 1 Ave   \n",
       "1                      -74             432    E 7 St & Avenue A   \n",
       "2                      -74            3096  Union Ave & N 12 St   \n",
       "3                      -74             280      E 10 St & 5 Ave   \n",
       "4                      -74             428       E 3 St & 1 Ave   \n",
       "\n",
       "   end station latitude  end station longitude  bikeid    usertype  \\\n",
       "0                    41                    -74   16920  Subscriber   \n",
       "1                    41                    -74   20084  Subscriber   \n",
       "2                    41                    -74   18380  Subscriber   \n",
       "3                    41                    -74   24101  Subscriber   \n",
       "4                    41                    -74   18949  Subscriber   \n",
       "\n",
       "   birth year  gender  \n",
       "0        1961       1  \n",
       "1        1989       2  \n",
       "2        1971       1  \n",
       "3        1995       1  \n",
       "4        1993       1  "
      ]
     },
     "execution_count": 136,
     "metadata": {},
     "output_type": "execute_result"
    }
   ],
   "source": [
    "dfs[0].head()"
   ]
  },
  {
   "cell_type": "code",
   "execution_count": 135,
   "metadata": {},
   "outputs": [
    {
     "data": {
      "text/html": [
       "<div>\n",
       "<style>\n",
       "    .dataframe thead tr:only-child th {\n",
       "        text-align: right;\n",
       "    }\n",
       "\n",
       "    .dataframe thead th {\n",
       "        text-align: left;\n",
       "    }\n",
       "\n",
       "    .dataframe tbody tr th {\n",
       "        vertical-align: top;\n",
       "    }\n",
       "</style>\n",
       "<table border=\"1\" class=\"dataframe\">\n",
       "  <thead>\n",
       "    <tr style=\"text-align: right;\">\n",
       "      <th></th>\n",
       "      <th>tripduration</th>\n",
       "      <th>starttime</th>\n",
       "      <th>stoptime</th>\n",
       "      <th>start station id</th>\n",
       "      <th>start station name</th>\n",
       "      <th>start station latitude</th>\n",
       "      <th>start station longitude</th>\n",
       "      <th>end station id</th>\n",
       "      <th>end station name</th>\n",
       "      <th>end station latitude</th>\n",
       "      <th>end station longitude</th>\n",
       "      <th>bikeid</th>\n",
       "      <th>usertype</th>\n",
       "      <th>birth year</th>\n",
       "      <th>gender</th>\n",
       "    </tr>\n",
       "  </thead>\n",
       "  <tbody>\n",
       "    <tr>\n",
       "      <th>0</th>\n",
       "      <td>328</td>\n",
       "      <td>2016-10-01 00:00:07</td>\n",
       "      <td>2016-10-01 00:05:35</td>\n",
       "      <td>471</td>\n",
       "      <td>Grand St &amp; Havemeyer St</td>\n",
       "      <td>41</td>\n",
       "      <td>-74</td>\n",
       "      <td>3077</td>\n",
       "      <td>Stagg St &amp; Union Ave</td>\n",
       "      <td>41</td>\n",
       "      <td>-74</td>\n",
       "      <td>25254</td>\n",
       "      <td>Subscriber</td>\n",
       "      <td>1992</td>\n",
       "      <td>1</td>\n",
       "    </tr>\n",
       "    <tr>\n",
       "      <th>1</th>\n",
       "      <td>398</td>\n",
       "      <td>2016-10-01 00:00:11</td>\n",
       "      <td>2016-10-01 00:06:49</td>\n",
       "      <td>3147</td>\n",
       "      <td>E 85 St &amp; 3 Ave</td>\n",
       "      <td>41</td>\n",
       "      <td>-74</td>\n",
       "      <td>3140</td>\n",
       "      <td>1 Ave &amp; E 78 St</td>\n",
       "      <td>41</td>\n",
       "      <td>-74</td>\n",
       "      <td>17810</td>\n",
       "      <td>Subscriber</td>\n",
       "      <td>1988</td>\n",
       "      <td>2</td>\n",
       "    </tr>\n",
       "    <tr>\n",
       "      <th>2</th>\n",
       "      <td>430</td>\n",
       "      <td>2016-10-01 00:00:14</td>\n",
       "      <td>2016-10-01 00:07:25</td>\n",
       "      <td>345</td>\n",
       "      <td>W 13 St &amp; 6 Ave</td>\n",
       "      <td>41</td>\n",
       "      <td>-74</td>\n",
       "      <td>470</td>\n",
       "      <td>W 20 St &amp; 8 Ave</td>\n",
       "      <td>41</td>\n",
       "      <td>-74</td>\n",
       "      <td>20940</td>\n",
       "      <td>Subscriber</td>\n",
       "      <td>1965</td>\n",
       "      <td>1</td>\n",
       "    </tr>\n",
       "    <tr>\n",
       "      <th>3</th>\n",
       "      <td>351</td>\n",
       "      <td>2016-10-01 00:00:21</td>\n",
       "      <td>2016-10-01 00:06:12</td>\n",
       "      <td>3307</td>\n",
       "      <td>West End Ave &amp; W 94 St</td>\n",
       "      <td>41</td>\n",
       "      <td>-74</td>\n",
       "      <td>3357</td>\n",
       "      <td>W 106 St &amp; Amsterdam Ave</td>\n",
       "      <td>41</td>\n",
       "      <td>-74</td>\n",
       "      <td>19086</td>\n",
       "      <td>Subscriber</td>\n",
       "      <td>1993</td>\n",
       "      <td>1</td>\n",
       "    </tr>\n",
       "    <tr>\n",
       "      <th>4</th>\n",
       "      <td>2693</td>\n",
       "      <td>2016-10-01 00:00:21</td>\n",
       "      <td>2016-10-01 00:45:15</td>\n",
       "      <td>3428</td>\n",
       "      <td>8 Ave &amp; W 16 St</td>\n",
       "      <td>41</td>\n",
       "      <td>-74</td>\n",
       "      <td>3323</td>\n",
       "      <td>W 106 St &amp; Central Park West</td>\n",
       "      <td>41</td>\n",
       "      <td>-74</td>\n",
       "      <td>26502</td>\n",
       "      <td>Subscriber</td>\n",
       "      <td>1991</td>\n",
       "      <td>1</td>\n",
       "    </tr>\n",
       "  </tbody>\n",
       "</table>\n",
       "</div>"
      ],
      "text/plain": [
       "   tripduration            starttime             stoptime  start station id  \\\n",
       "0           328  2016-10-01 00:00:07  2016-10-01 00:05:35               471   \n",
       "1           398  2016-10-01 00:00:11  2016-10-01 00:06:49              3147   \n",
       "2           430  2016-10-01 00:00:14  2016-10-01 00:07:25               345   \n",
       "3           351  2016-10-01 00:00:21  2016-10-01 00:06:12              3307   \n",
       "4          2693  2016-10-01 00:00:21  2016-10-01 00:45:15              3428   \n",
       "\n",
       "        start station name  start station latitude  start station longitude  \\\n",
       "0  Grand St & Havemeyer St                      41                      -74   \n",
       "1          E 85 St & 3 Ave                      41                      -74   \n",
       "2          W 13 St & 6 Ave                      41                      -74   \n",
       "3   West End Ave & W 94 St                      41                      -74   \n",
       "4          8 Ave & W 16 St                      41                      -74   \n",
       "\n",
       "   end station id              end station name  end station latitude  \\\n",
       "0            3077          Stagg St & Union Ave                    41   \n",
       "1            3140               1 Ave & E 78 St                    41   \n",
       "2             470               W 20 St & 8 Ave                    41   \n",
       "3            3357      W 106 St & Amsterdam Ave                    41   \n",
       "4            3323  W 106 St & Central Park West                    41   \n",
       "\n",
       "   end station longitude  bikeid    usertype  birth year  gender  \n",
       "0                    -74   25254  Subscriber        1992       1  \n",
       "1                    -74   17810  Subscriber        1988       2  \n",
       "2                    -74   20940  Subscriber        1965       1  \n",
       "3                    -74   19086  Subscriber        1993       1  \n",
       "4                    -74   26502  Subscriber        1991       1  "
      ]
     },
     "execution_count": 135,
     "metadata": {},
     "output_type": "execute_result"
    }
   ],
   "source": [
    "dfs[1].head()"
   ]
  },
  {
   "cell_type": "markdown",
   "metadata": {
    "collapsed": true
   },
   "source": [
    "Right now (09/19/17), two datasets merged to the list `dfs`, August 2016 and October 2016.  A data wrangling issue addressed at initiation is the header (i.e. attribute names).  Citibike may have changed the header names.  This may cause inconsistency.  So it's important that they are the same.  After dealing with headers, the data divides into five specific 'groups':\n",
    "\n",
    "* Trip (tripduration, start time, stop time)\n",
    "* Origin (station id, name, coordinates)\n",
    "* Destination (station id, name, coordinates)\n",
    "* Customer (type, birthyear, gender)\n",
    "* Bike (bike id)\n",
    "\n",
    "This doesn't include other factors (i.e. biketype, speed) and external attributes (i.e. weather, events).  However, that doesn't mean the project will use the entire dataset.  Coordinates is a perfect example, as they work best with mapping.  This project will not explore mapping.\n",
    "\n",
    "Each attribute is below; keep in mind:\n",
    "\n",
    "* Trip Duration (seconds)\n",
    "* User Type (Customer = 24-hour pass or 3-day pass user; Subscriber = Annual Member)\n",
    "* Gender (0=unknown; 1=male; 2=female)\n"
   ]
  },
  {
   "cell_type": "code",
   "execution_count": 29,
   "metadata": {},
   "outputs": [
    {
     "name": "stdout",
     "output_type": "stream",
     "text": [
      "<class 'pandas.core.frame.DataFrame'>\n",
      "RangeIndex: 1557663 entries, 0 to 1557662\n",
      "Data columns (total 15 columns):\n",
      "tripduration               1557663 non-null int64\n",
      "starttime                  1557663 non-null object\n",
      "stoptime                   1557663 non-null object\n",
      "start station id           1557663 non-null int64\n",
      "start station name         1557663 non-null object\n",
      "start station latitude     1557663 non-null float64\n",
      "start station longitude    1557663 non-null float64\n",
      "end station id             1557663 non-null int64\n",
      "end station name           1557663 non-null object\n",
      "end station latitude       1557663 non-null float64\n",
      "end station longitude      1557663 non-null float64\n",
      "bikeid                     1557663 non-null int64\n",
      "usertype                   1557663 non-null object\n",
      "birth year                 1343039 non-null float64\n",
      "gender                     1557663 non-null int64\n",
      "dtypes: float64(5), int64(5), object(5)\n",
      "memory usage: 178.3+ MB\n"
     ]
    }
   ],
   "source": [
    "dfs[0].info()"
   ]
  },
  {
   "cell_type": "markdown",
   "metadata": {
    "collapsed": true
   },
   "source": [
    "### Data Wrangling\n",
    "Create a short document (1-2 pages) in your github describing the data wrangling steps that you undertook to clean your capstone project data set. \n",
    "\n",
    "* What kind of cleaning steps did you perform? \n",
    "* How did you deal with missing values, if any? \n",
    "* Were there outliers, and how did you decide to handle them? \n",
    "\n",
    "This document will eventually become part of your milestone report.\n",
    "\n",
    "#### Consolidate and organize data"
   ]
  },
  {
   "cell_type": "code",
   "execution_count": 137,
   "metadata": {
    "collapsed": true
   },
   "outputs": [],
   "source": [
    "# Concatenate data\n",
    "df = pd.concat(dfs)"
   ]
  },
  {
   "cell_type": "code",
   "execution_count": 138,
   "metadata": {
    "collapsed": true
   },
   "outputs": [],
   "source": [
    "# Reset indices\n",
    "df = df.reset_index(drop=True)"
   ]
  },
  {
   "cell_type": "code",
   "execution_count": 145,
   "metadata": {
    "collapsed": true
   },
   "outputs": [],
   "source": [
    "# drop any duplicates in the data\n",
    "df = df.drop_duplicates()"
   ]
  },
  {
   "cell_type": "markdown",
   "metadata": {},
   "source": [
    "#### Reviewing Dataset\n",
    "Several issues arise:\n",
    "\n",
    "* Improper headers (`Trip Duration` for 10/16 vs `tripduration` 08/16)*\n",
    "* Improper birth year format (minor but still there)\n",
    "* Missing customer details (i.e. subscribers have birth year and gender, customers don't)\n",
    "* Improper datetime formats (`8/1/2016 00:01:22` vs `2016-10-01 00:00:07`)\n",
    "\n",
    "NOTE: Improper headers were resolved by using the first set's header when initializing the dataset.  If there were changes, i.e. new column, then further work would be done to deal with missing values from previous sets and work with future sets.  Here this is not the case, but having consistent headers is beneficial.  \n",
    "\n",
    "So let's deal with the dataset issues.\n",
    "\n",
    "#### Birth Year\n",
    "This is a simple conversion to format the float.  "
   ]
  },
  {
   "cell_type": "code",
   "execution_count": 146,
   "metadata": {},
   "outputs": [
    {
     "data": {
      "text/html": [
       "<div>\n",
       "<style>\n",
       "    .dataframe thead tr:only-child th {\n",
       "        text-align: right;\n",
       "    }\n",
       "\n",
       "    .dataframe thead th {\n",
       "        text-align: left;\n",
       "    }\n",
       "\n",
       "    .dataframe tbody tr th {\n",
       "        vertical-align: top;\n",
       "    }\n",
       "</style>\n",
       "<table border=\"1\" class=\"dataframe\">\n",
       "  <thead>\n",
       "    <tr style=\"text-align: right;\">\n",
       "      <th></th>\n",
       "      <th>tripduration</th>\n",
       "      <th>starttime</th>\n",
       "      <th>stoptime</th>\n",
       "      <th>start station id</th>\n",
       "      <th>start station name</th>\n",
       "      <th>start station latitude</th>\n",
       "      <th>start station longitude</th>\n",
       "      <th>end station id</th>\n",
       "      <th>end station name</th>\n",
       "      <th>end station latitude</th>\n",
       "      <th>end station longitude</th>\n",
       "      <th>bikeid</th>\n",
       "      <th>usertype</th>\n",
       "      <th>birth year</th>\n",
       "      <th>gender</th>\n",
       "    </tr>\n",
       "  </thead>\n",
       "  <tbody>\n",
       "    <tr>\n",
       "      <th>0</th>\n",
       "      <td>288</td>\n",
       "      <td>8/1/2016 00:01:22</td>\n",
       "      <td>8/1/2016 00:06:11</td>\n",
       "      <td>302</td>\n",
       "      <td>Avenue D &amp; E 3 St</td>\n",
       "      <td>41</td>\n",
       "      <td>-74</td>\n",
       "      <td>428</td>\n",
       "      <td>E 3 St &amp; 1 Ave</td>\n",
       "      <td>41</td>\n",
       "      <td>-74</td>\n",
       "      <td>16920</td>\n",
       "      <td>Subscriber</td>\n",
       "      <td>1961</td>\n",
       "      <td>1</td>\n",
       "    </tr>\n",
       "    <tr>\n",
       "      <th>1</th>\n",
       "      <td>457</td>\n",
       "      <td>8/1/2016 00:01:43</td>\n",
       "      <td>8/1/2016 00:09:21</td>\n",
       "      <td>285</td>\n",
       "      <td>Broadway &amp; E 14 St</td>\n",
       "      <td>41</td>\n",
       "      <td>-74</td>\n",
       "      <td>432</td>\n",
       "      <td>E 7 St &amp; Avenue A</td>\n",
       "      <td>41</td>\n",
       "      <td>-74</td>\n",
       "      <td>20084</td>\n",
       "      <td>Subscriber</td>\n",
       "      <td>1989</td>\n",
       "      <td>2</td>\n",
       "    </tr>\n",
       "    <tr>\n",
       "      <th>2</th>\n",
       "      <td>278</td>\n",
       "      <td>8/1/2016 00:02:10</td>\n",
       "      <td>8/1/2016 00:06:49</td>\n",
       "      <td>539</td>\n",
       "      <td>Metropolitan Ave &amp; Bedford Ave</td>\n",
       "      <td>41</td>\n",
       "      <td>-74</td>\n",
       "      <td>3096</td>\n",
       "      <td>Union Ave &amp; N 12 St</td>\n",
       "      <td>41</td>\n",
       "      <td>-74</td>\n",
       "      <td>18380</td>\n",
       "      <td>Subscriber</td>\n",
       "      <td>1971</td>\n",
       "      <td>1</td>\n",
       "    </tr>\n",
       "    <tr>\n",
       "      <th>3</th>\n",
       "      <td>862</td>\n",
       "      <td>8/1/2016 00:02:13</td>\n",
       "      <td>8/1/2016 00:16:36</td>\n",
       "      <td>280</td>\n",
       "      <td>E 10 St &amp; 5 Ave</td>\n",
       "      <td>41</td>\n",
       "      <td>-74</td>\n",
       "      <td>280</td>\n",
       "      <td>E 10 St &amp; 5 Ave</td>\n",
       "      <td>41</td>\n",
       "      <td>-74</td>\n",
       "      <td>24101</td>\n",
       "      <td>Subscriber</td>\n",
       "      <td>1995</td>\n",
       "      <td>1</td>\n",
       "    </tr>\n",
       "    <tr>\n",
       "      <th>4</th>\n",
       "      <td>407</td>\n",
       "      <td>8/1/2016 00:02:21</td>\n",
       "      <td>8/1/2016 00:09:09</td>\n",
       "      <td>161</td>\n",
       "      <td>LaGuardia Pl &amp; W 3 St</td>\n",
       "      <td>41</td>\n",
       "      <td>-74</td>\n",
       "      <td>428</td>\n",
       "      <td>E 3 St &amp; 1 Ave</td>\n",
       "      <td>41</td>\n",
       "      <td>-74</td>\n",
       "      <td>18949</td>\n",
       "      <td>Subscriber</td>\n",
       "      <td>1993</td>\n",
       "      <td>1</td>\n",
       "    </tr>\n",
       "  </tbody>\n",
       "</table>\n",
       "</div>"
      ],
      "text/plain": [
       "   tripduration          starttime           stoptime  start station id  \\\n",
       "0           288  8/1/2016 00:01:22  8/1/2016 00:06:11               302   \n",
       "1           457  8/1/2016 00:01:43  8/1/2016 00:09:21               285   \n",
       "2           278  8/1/2016 00:02:10  8/1/2016 00:06:49               539   \n",
       "3           862  8/1/2016 00:02:13  8/1/2016 00:16:36               280   \n",
       "4           407  8/1/2016 00:02:21  8/1/2016 00:09:09               161   \n",
       "\n",
       "               start station name  start station latitude  \\\n",
       "0               Avenue D & E 3 St                      41   \n",
       "1              Broadway & E 14 St                      41   \n",
       "2  Metropolitan Ave & Bedford Ave                      41   \n",
       "3                 E 10 St & 5 Ave                      41   \n",
       "4           LaGuardia Pl & W 3 St                      41   \n",
       "\n",
       "   start station longitude  end station id     end station name  \\\n",
       "0                      -74             428       E 3 St & 1 Ave   \n",
       "1                      -74             432    E 7 St & Avenue A   \n",
       "2                      -74            3096  Union Ave & N 12 St   \n",
       "3                      -74             280      E 10 St & 5 Ave   \n",
       "4                      -74             428       E 3 St & 1 Ave   \n",
       "\n",
       "   end station latitude  end station longitude  bikeid    usertype  \\\n",
       "0                    41                    -74   16920  Subscriber   \n",
       "1                    41                    -74   20084  Subscriber   \n",
       "2                    41                    -74   18380  Subscriber   \n",
       "3                    41                    -74   24101  Subscriber   \n",
       "4                    41                    -74   18949  Subscriber   \n",
       "\n",
       "   birth year  gender  \n",
       "0        1961       1  \n",
       "1        1989       2  \n",
       "2        1971       1  \n",
       "3        1995       1  \n",
       "4        1993       1  "
      ]
     },
     "execution_count": 146,
     "metadata": {},
     "output_type": "execute_result"
    }
   ],
   "source": [
    "# Birth Year\n",
    "pd.options.display.float_format = '{:.0f}'.format\n",
    "dfs[0].head()"
   ]
  },
  {
   "cell_type": "markdown",
   "metadata": {},
   "source": [
    "#### Datetime\n",
    "This is tricky as some datasets have the date format differently than another.  "
   ]
  },
  {
   "cell_type": "code",
   "execution_count": 150,
   "metadata": {
    "collapsed": true
   },
   "outputs": [],
   "source": [
    "# Datetime \n",
    "df['starttime'] = pd.to_datetime(df['starttime'])"
   ]
  },
  {
   "cell_type": "code",
   "execution_count": 151,
   "metadata": {
    "collapsed": true
   },
   "outputs": [],
   "source": [
    "df['stoptime'] = pd.to_datetime(df['stoptime'])"
   ]
  },
  {
   "cell_type": "code",
   "execution_count": 149,
   "metadata": {},
   "outputs": [
    {
     "name": "stdout",
     "output_type": "stream",
     "text": [
      "<class 'pandas.core.frame.DataFrame'>\n",
      "Int64Index: 3131535 entries, 0 to 3131534\n",
      "Data columns (total 15 columns):\n",
      "tripduration               int64\n",
      "starttime                  datetime64[ns]\n",
      "stoptime                   datetime64[ns]\n",
      "start station id           int64\n",
      "start station name         object\n",
      "start station latitude     float64\n",
      "start station longitude    float64\n",
      "end station id             int64\n",
      "end station name           object\n",
      "end station latitude       float64\n",
      "end station longitude      float64\n",
      "bikeid                     int64\n",
      "usertype                   object\n",
      "birth year                 float64\n",
      "gender                     int64\n",
      "dtypes: datetime64[ns](2), float64(5), int64(5), object(3)\n",
      "memory usage: 382.3+ MB\n"
     ]
    }
   ],
   "source": [
    "# show datetime64[ns]\n",
    "df.info()"
   ]
  },
  {
   "cell_type": "markdown",
   "metadata": {},
   "source": [
    "#### Missing Data\n",
    "First, which data is missing?  Missing data is identified as '' or `NaN`.  Luckily no missing data from other attributes exist."
   ]
  },
  {
   "cell_type": "code",
   "execution_count": 71,
   "metadata": {},
   "outputs": [
    {
     "data": {
      "text/plain": [
       "tripduration                    0\n",
       "starttime                       0\n",
       "stoptime                        0\n",
       "start station id                0\n",
       "start station name              0\n",
       "start station latitude          0\n",
       "start station longitude         0\n",
       "end station id                  0\n",
       "end station name                0\n",
       "end station latitude            0\n",
       "end station longitude           0\n",
       "bikeid                          0\n",
       "usertype                        0\n",
       "birth year                 382072\n",
       "gender                          0\n",
       "dtype: int64"
      ]
     },
     "execution_count": 71,
     "metadata": {},
     "output_type": "execute_result"
    }
   ],
   "source": [
    "df.isnull().sum()"
   ]
  },
  {
   "cell_type": "markdown",
   "metadata": {},
   "source": [
    "The attributes `usertype` and `birth year` show a lot of missing data. `birth year` is the most important as this is what the analysis will be working with.  We'll perform two paths:\n",
    "\n",
    "* Drop all unnecessary values from the dataset: df_clean\n",
    "* Clean the data with estimations (i.e. no `birth year` and `usertype` = customer)"
   ]
  },
  {
   "cell_type": "code",
   "execution_count": 72,
   "metadata": {},
   "outputs": [
    {
     "data": {
      "text/plain": [
       "tripduration               0\n",
       "starttime                  0\n",
       "stoptime                   0\n",
       "start station id           0\n",
       "start station name         0\n",
       "start station latitude     0\n",
       "start station longitude    0\n",
       "end station id             0\n",
       "end station name           0\n",
       "end station latitude       0\n",
       "end station longitude      0\n",
       "bikeid                     0\n",
       "usertype                   0\n",
       "birth year                 0\n",
       "gender                     0\n",
       "dtype: int64"
      ]
     },
     "execution_count": 72,
     "metadata": {},
     "output_type": "execute_result"
    }
   ],
   "source": [
    "# Drop NA subset\n",
    "df_clean = df.dropna(how='any')\n",
    "df_clean.isnull().sum()"
   ]
  },
  {
   "cell_type": "markdown",
   "metadata": {},
   "source": [
    "Using `dropna()` removes all data that has a `NaN` influence.  However, this is nearly 400,000 cells and is not best.  So let's dive deeper by selecting conditions.  An estimate shows that if the bike year is not available, it is a customer.  However, if a birth year is shown next to people who are unidentified, they are probably a customer.  Citibike does not require customers to provide their birth year when purchasing for 3 days (credit cards are a different story).  "
   ]
  },
  {
   "cell_type": "code",
   "execution_count": 157,
   "metadata": {},
   "outputs": [
    {
     "data": {
      "text/plain": [
       "Subscriber    2742004\n",
       "Customer       371582\n",
       "Name: usertype, dtype: int64"
      ]
     },
     "execution_count": 157,
     "metadata": {},
     "output_type": "execute_result"
    }
   ],
   "source": [
    "df['usertype'].value_counts()"
   ]
  },
  {
   "cell_type": "code",
   "execution_count": 158,
   "metadata": {},
   "outputs": [
    {
     "ename": "TypeError",
     "evalue": "cannot compare a dtyped [float64] array with a scalar of type [bool]",
     "output_type": "error",
     "traceback": [
      "\u001b[0;31m---------------------------------------------------------------------------\u001b[0m",
      "\u001b[0;31mTypeError\u001b[0m                                 Traceback (most recent call last)",
      "\u001b[0;32m/anaconda/lib/python3.6/site-packages/pandas/core/ops.py\u001b[0m in \u001b[0;36mna_op\u001b[0;34m(x, y)\u001b[0m\n\u001b[1;32m    882\u001b[0m         \u001b[0;32mtry\u001b[0m\u001b[0;34m:\u001b[0m\u001b[0;34m\u001b[0m\u001b[0m\n\u001b[0;32m--> 883\u001b[0;31m             \u001b[0mresult\u001b[0m \u001b[0;34m=\u001b[0m \u001b[0mop\u001b[0m\u001b[0;34m(\u001b[0m\u001b[0mx\u001b[0m\u001b[0;34m,\u001b[0m \u001b[0my\u001b[0m\u001b[0;34m)\u001b[0m\u001b[0;34m\u001b[0m\u001b[0m\n\u001b[0m\u001b[1;32m    884\u001b[0m         \u001b[0;32mexcept\u001b[0m \u001b[0mTypeError\u001b[0m\u001b[0;34m:\u001b[0m\u001b[0;34m\u001b[0m\u001b[0m\n",
      "\u001b[0;32m/anaconda/lib/python3.6/site-packages/pandas/core/ops.py\u001b[0m in \u001b[0;36m<lambda>\u001b[0;34m(x, y)\u001b[0m\n\u001b[1;32m    128\u001b[0m                  \u001b[0mxor\u001b[0m\u001b[0;34m=\u001b[0m\u001b[0mbool_method\u001b[0m\u001b[0;34m(\u001b[0m\u001b[0moperator\u001b[0m\u001b[0;34m.\u001b[0m\u001b[0mxor\u001b[0m\u001b[0;34m,\u001b[0m \u001b[0mnames\u001b[0m\u001b[0;34m(\u001b[0m\u001b[0;34m'xor'\u001b[0m\u001b[0;34m)\u001b[0m\u001b[0;34m,\u001b[0m \u001b[0mop\u001b[0m\u001b[0;34m(\u001b[0m\u001b[0;34m'^'\u001b[0m\u001b[0;34m)\u001b[0m\u001b[0;34m)\u001b[0m\u001b[0;34m,\u001b[0m\u001b[0;34m\u001b[0m\u001b[0m\n\u001b[0;32m--> 129\u001b[0;31m                  rand_=bool_method(lambda x, y: operator.and_(y, x),\n\u001b[0m\u001b[1;32m    130\u001b[0m                                    names('rand_'), op('&')),\n",
      "\u001b[0;31mTypeError\u001b[0m: ufunc 'bitwise_and' not supported for the input types, and the inputs could not be safely coerced to any supported types according to the casting rule ''safe''",
      "\nDuring handling of the above exception, another exception occurred:\n",
      "\u001b[0;31mValueError\u001b[0m                                Traceback (most recent call last)",
      "\u001b[0;32m/anaconda/lib/python3.6/site-packages/pandas/core/ops.py\u001b[0m in \u001b[0;36mna_op\u001b[0;34m(x, y)\u001b[0m\n\u001b[1;32m    900\u001b[0m                         \u001b[0my\u001b[0m \u001b[0;34m=\u001b[0m \u001b[0mbool\u001b[0m\u001b[0;34m(\u001b[0m\u001b[0my\u001b[0m\u001b[0;34m)\u001b[0m\u001b[0;34m\u001b[0m\u001b[0m\n\u001b[0;32m--> 901\u001b[0;31m                     \u001b[0mresult\u001b[0m \u001b[0;34m=\u001b[0m \u001b[0mlib\u001b[0m\u001b[0;34m.\u001b[0m\u001b[0mscalar_binop\u001b[0m\u001b[0;34m(\u001b[0m\u001b[0mx\u001b[0m\u001b[0;34m,\u001b[0m \u001b[0my\u001b[0m\u001b[0;34m,\u001b[0m \u001b[0mop\u001b[0m\u001b[0;34m)\u001b[0m\u001b[0;34m\u001b[0m\u001b[0m\n\u001b[0m\u001b[1;32m    902\u001b[0m                 \u001b[0;32mexcept\u001b[0m\u001b[0;34m:\u001b[0m\u001b[0;34m\u001b[0m\u001b[0m\n",
      "\u001b[0;32mpandas/_libs/lib.pyx\u001b[0m in \u001b[0;36mpandas._libs.lib.scalar_binop (pandas/_libs/lib.c:15035)\u001b[0;34m()\u001b[0m\n",
      "\u001b[0;31mValueError\u001b[0m: Buffer dtype mismatch, expected 'Python object' but got 'double'",
      "\nDuring handling of the above exception, another exception occurred:\n",
      "\u001b[0;31mTypeError\u001b[0m                                 Traceback (most recent call last)",
      "\u001b[0;32m<ipython-input-158-b333304e4efa>\u001b[0m in \u001b[0;36m<module>\u001b[0;34m()\u001b[0m\n\u001b[1;32m      1\u001b[0m \u001b[0;31m# for idx, row in sample.iterrows():\u001b[0m\u001b[0;34m\u001b[0m\u001b[0;34m\u001b[0m\u001b[0m\n\u001b[1;32m      2\u001b[0m \u001b[0;31m#    if row['usertype'] == 'nan':\u001b[0m\u001b[0;34m\u001b[0m\u001b[0;34m\u001b[0m\u001b[0m\n\u001b[0;32m----> 3\u001b[0;31m \u001b[0mdf\u001b[0m\u001b[0;34m[\u001b[0m\u001b[0mdf\u001b[0m\u001b[0;34m[\u001b[0m\u001b[0;34m'usertype'\u001b[0m\u001b[0;34m]\u001b[0m\u001b[0;34m==\u001b[0m\u001b[0;34m'nan'\u001b[0m \u001b[0;34m&\u001b[0m \u001b[0mdf\u001b[0m\u001b[0;34m[\u001b[0m\u001b[0;34m'birth year'\u001b[0m\u001b[0;34m]\u001b[0m\u001b[0;34m==\u001b[0m\u001b[0;34m'nan'\u001b[0m\u001b[0;34m]\u001b[0m\u001b[0;34m[\u001b[0m\u001b[0;34m'usertype'\u001b[0m\u001b[0;34m]\u001b[0m\u001b[0;34m=\u001b[0m\u001b[0;34m'Customer'\u001b[0m\u001b[0;34m\u001b[0m\u001b[0m\n\u001b[0m",
      "\u001b[0;32m/anaconda/lib/python3.6/site-packages/pandas/core/ops.py\u001b[0m in \u001b[0;36mwrapper\u001b[0;34m(self, other)\u001b[0m\n\u001b[1;32m    933\u001b[0m                       is_integer_dtype(np.asarray(other)) else fill_bool)\n\u001b[1;32m    934\u001b[0m             return filler(self._constructor(\n\u001b[0;32m--> 935\u001b[0;31m                 \u001b[0mna_op\u001b[0m\u001b[0;34m(\u001b[0m\u001b[0mself\u001b[0m\u001b[0;34m.\u001b[0m\u001b[0mvalues\u001b[0m\u001b[0;34m,\u001b[0m \u001b[0mother\u001b[0m\u001b[0;34m)\u001b[0m\u001b[0;34m,\u001b[0m\u001b[0;34m\u001b[0m\u001b[0m\n\u001b[0m\u001b[1;32m    936\u001b[0m                 index=self.index)).__finalize__(self)\n\u001b[1;32m    937\u001b[0m \u001b[0;34m\u001b[0m\u001b[0m\n",
      "\u001b[0;32m/anaconda/lib/python3.6/site-packages/pandas/core/ops.py\u001b[0m in \u001b[0;36mna_op\u001b[0;34m(x, y)\u001b[0m\n\u001b[1;32m    903\u001b[0m                     raise TypeError(\"cannot compare a dtyped [{0}] array with \"\n\u001b[1;32m    904\u001b[0m                                     \"a scalar of type [{1}]\".format(\n\u001b[0;32m--> 905\u001b[0;31m                                         x.dtype, type(y).__name__))\n\u001b[0m\u001b[1;32m    906\u001b[0m \u001b[0;34m\u001b[0m\u001b[0m\n\u001b[1;32m    907\u001b[0m         \u001b[0;32mreturn\u001b[0m \u001b[0mresult\u001b[0m\u001b[0;34m\u001b[0m\u001b[0m\n",
      "\u001b[0;31mTypeError\u001b[0m: cannot compare a dtyped [float64] array with a scalar of type [bool]"
     ]
    }
   ],
   "source": [
    "# for idx, row in sample.iterrows():\n",
    "#    if row['usertype'] == 'nan':\n",
    "df[df['usertype']=='nan' & df['birth year']=='nan']['usertype']='Customer'"
   ]
  },
  {
   "cell_type": "code",
   "execution_count": 121,
   "metadata": {},
   "outputs": [
    {
     "data": {
      "text/html": [
       "<div>\n",
       "<style>\n",
       "    .dataframe thead tr:only-child th {\n",
       "        text-align: right;\n",
       "    }\n",
       "\n",
       "    .dataframe thead th {\n",
       "        text-align: left;\n",
       "    }\n",
       "\n",
       "    .dataframe tbody tr th {\n",
       "        vertical-align: top;\n",
       "    }\n",
       "</style>\n",
       "<table border=\"1\" class=\"dataframe\">\n",
       "  <thead>\n",
       "    <tr style=\"text-align: right;\">\n",
       "      <th></th>\n",
       "      <th>tripduration</th>\n",
       "      <th>starttime</th>\n",
       "      <th>stoptime</th>\n",
       "      <th>start station id</th>\n",
       "      <th>start station name</th>\n",
       "      <th>start station latitude</th>\n",
       "      <th>start station longitude</th>\n",
       "      <th>end station id</th>\n",
       "      <th>end station name</th>\n",
       "      <th>end station latitude</th>\n",
       "      <th>end station longitude</th>\n",
       "      <th>bikeid</th>\n",
       "      <th>usertype</th>\n",
       "      <th>birth year</th>\n",
       "      <th>gender</th>\n",
       "    </tr>\n",
       "  </thead>\n",
       "  <tbody>\n",
       "    <tr>\n",
       "      <th>0</th>\n",
       "      <td>288</td>\n",
       "      <td>2016-08-01 00:01:22</td>\n",
       "      <td>2016-08-01 00:06:11</td>\n",
       "      <td>302</td>\n",
       "      <td>Avenue D &amp; E 3 St</td>\n",
       "      <td>41</td>\n",
       "      <td>-74</td>\n",
       "      <td>428</td>\n",
       "      <td>E 3 St &amp; 1 Ave</td>\n",
       "      <td>41</td>\n",
       "      <td>-74</td>\n",
       "      <td>16920</td>\n",
       "      <td>Subscriber</td>\n",
       "      <td>1961</td>\n",
       "      <td>1</td>\n",
       "    </tr>\n",
       "    <tr>\n",
       "      <th>0</th>\n",
       "      <td>328</td>\n",
       "      <td>2016-10-01 00:00:07</td>\n",
       "      <td>2016-10-01 00:05:35</td>\n",
       "      <td>471</td>\n",
       "      <td>Grand St &amp; Havemeyer St</td>\n",
       "      <td>41</td>\n",
       "      <td>-74</td>\n",
       "      <td>3077</td>\n",
       "      <td>Stagg St &amp; Union Ave</td>\n",
       "      <td>41</td>\n",
       "      <td>-74</td>\n",
       "      <td>25254</td>\n",
       "      <td>Subscriber</td>\n",
       "      <td>1992</td>\n",
       "      <td>1</td>\n",
       "    </tr>\n",
       "  </tbody>\n",
       "</table>\n",
       "</div>"
      ],
      "text/plain": [
       "   tripduration           starttime            stoptime  start station id  \\\n",
       "0           288 2016-08-01 00:01:22 2016-08-01 00:06:11               302   \n",
       "0           328 2016-10-01 00:00:07 2016-10-01 00:05:35               471   \n",
       "\n",
       "        start station name  start station latitude  start station longitude  \\\n",
       "0        Avenue D & E 3 St                      41                      -74   \n",
       "0  Grand St & Havemeyer St                      41                      -74   \n",
       "\n",
       "   end station id      end station name  end station latitude  \\\n",
       "0             428        E 3 St & 1 Ave                    41   \n",
       "0            3077  Stagg St & Union Ave                    41   \n",
       "\n",
       "   end station longitude  bikeid    usertype  birth year  gender  \n",
       "0                    -74   16920  Subscriber        1961       1  \n",
       "0                    -74   25254  Subscriber        1992       1  "
      ]
     },
     "execution_count": 121,
     "metadata": {},
     "output_type": "execute_result"
    }
   ],
   "source": [
    "df.loc[0,:]"
   ]
  },
  {
   "cell_type": "code",
   "execution_count": null,
   "metadata": {
    "collapsed": true
   },
   "outputs": [],
   "source": []
  },
  {
   "cell_type": "code",
   "execution_count": null,
   "metadata": {
    "collapsed": true
   },
   "outputs": [],
   "source": []
  },
  {
   "cell_type": "code",
   "execution_count": 113,
   "metadata": {},
   "outputs": [
    {
     "data": {
      "text/plain": [
       "Subscriber    2742004\n",
       "Customer       371582\n",
       "nan             17949\n",
       "Name: usertype, dtype: int64"
      ]
     },
     "execution_count": 113,
     "metadata": {},
     "output_type": "execute_result"
    }
   ],
   "source": [
    "df['usertype'].value_counts()"
   ]
  },
  {
   "cell_type": "markdown",
   "metadata": {
    "collapsed": true
   },
   "source": [
    "#### Outliers\n",
    "Here, outliers are common.  They will involve birth year, gender, and user type.  Because trip duration is a measure, it is worth exploring, especially if the data has no-trips (i.e. trips where a user took out and returned the bike in less than a minute) or obscured trips (i.e. taken out for a prolonged time).  "
   ]
  },
  {
   "cell_type": "code",
   "execution_count": 416,
   "metadata": {},
   "outputs": [
    {
     "data": {
      "text/plain": [
       "count   3131535\n",
       "mean        953\n",
       "std       12110\n",
       "min          61\n",
       "25%         394\n",
       "50%         656\n",
       "75%        1116\n",
       "max     8933552\n",
       "Name: tripduration, dtype: float64"
      ]
     },
     "execution_count": 416,
     "metadata": {},
     "output_type": "execute_result"
    }
   ],
   "source": [
    "# Trip duration is an actual measure, below shows the stats.  \n",
    "# Significant trips (25% - 75%) are between 394 sec (~6 min) to 656 sec (~11 min).\n",
    "# Notice max trip duration is ~9M seconds (103 days)\n",
    "# Outliers will be explored later in document\n",
    "\n",
    "df['tripduration'].describe()"
   ]
  },
  {
   "cell_type": "code",
   "execution_count": 268,
   "metadata": {},
   "outputs": [
    {
     "data": {
      "text/plain": [
       "(479, 15)"
      ]
     },
     "execution_count": 268,
     "metadata": {},
     "output_type": "execute_result"
    }
   ],
   "source": [
    "# One outlier type (via tripduration) shows 479 entries having a trip over 1 day\n",
    "df[df['tripduration'] > (24 * 60 * 60)].shape"
   ]
  },
  {
   "cell_type": "code",
   "execution_count": 270,
   "metadata": {},
   "outputs": [
    {
     "data": {
      "text/plain": [
       "(34211, 15)"
      ]
     },
     "execution_count": 270,
     "metadata": {},
     "output_type": "execute_result"
    }
   ],
   "source": [
    "# Another outlier type shows 34k trips with less than 2 minute (decide to keep or remove)\n",
    "df[df['tripduration'] <= 120].shape"
   ]
  },
  {
   "cell_type": "code",
   "execution_count": 289,
   "metadata": {},
   "outputs": [
    {
     "data": {
      "text/plain": [
       "count   2749463\n",
       "mean       1978\n",
       "std          12\n",
       "min        1885\n",
       "25%        1970\n",
       "50%        1981\n",
       "75%        1987\n",
       "max        2000\n",
       "Name: birth year, dtype: float64"
      ]
     },
     "execution_count": 289,
     "metadata": {},
     "output_type": "execute_result"
    }
   ],
   "source": [
    "# As for birth year, notice how long the birth year gap is \n",
    "df['birth year'].describe()"
   ]
  },
  {
   "cell_type": "code",
   "execution_count": 290,
   "metadata": {},
   "outputs": [
    {
     "data": {
      "text/plain": [
       "(1261, 15)"
      ]
     },
     "execution_count": 290,
     "metadata": {},
     "output_type": "execute_result"
    }
   ],
   "source": [
    "# Using 1930 (age 87) as a threshold, shows size with very old age, questionable for outliers\n",
    "df[df['birth year'] < 1930.0].shape"
   ]
  },
  {
   "cell_type": "code",
   "execution_count": 320,
   "metadata": {},
   "outputs": [
    {
     "data": {
      "text/plain": [
       "1    2044462\n",
       "2     696621\n",
       "0     390452\n",
       "Name: gender, dtype: int64"
      ]
     },
     "execution_count": 320,
     "metadata": {},
     "output_type": "execute_result"
    }
   ],
   "source": [
    "# This will look at the spread of all participants\n",
    "# 1 = male, 2 = female, 0 = unknown\n",
    "df['gender'].value_counts()"
   ]
  },
  {
   "cell_type": "code",
   "execution_count": 346,
   "metadata": {},
   "outputs": [
    {
     "data": {
      "text/plain": [
       "(390452, 15)"
      ]
     },
     "execution_count": 346,
     "metadata": {},
     "output_type": "execute_result"
    }
   ],
   "source": [
    "# Unknown gender types (for this dataset, it's near 400,000 records)\n",
    "df[df['gender'] == 0].shape"
   ]
  },
  {
   "cell_type": "code",
   "execution_count": null,
   "metadata": {
    "collapsed": true
   },
   "outputs": [],
   "source": []
  },
  {
   "cell_type": "code",
   "execution_count": null,
   "metadata": {
    "collapsed": true
   },
   "outputs": [],
   "source": []
  },
  {
   "cell_type": "markdown",
   "metadata": {
    "collapsed": true
   },
   "source": [
    "## Exploratory Data Storytelling\n",
    "Pick a dataset (ideally the dataset for your Capstone). If for some reason you want to do this on a different data set, you can find one on Mode Analytics or Google's public data sets directory, or pick another one you like from elsewhere.\n",
    "\n",
    "Get going by asking the following questions and looking for the answers with some code and plots:\n",
    "* Can you count something interesting?\n",
    "* Can you find some trends (high, low, increase, decrease, anomalies)?\n",
    "* Can you make a bar plot or a histogram?\n",
    "* Can you compare two related quantities?\n",
    "* Can you make a scatterplot?\n",
    "* Can you make a time-series plot?\n",
    "\n",
    "Having made these plots, what are some insights you get from them? \n",
    "* Do you see any correlations? \n",
    "* Is there a hypothesis you would like to investigate further? \n",
    "* What other questions do they lead you to ask?\n",
    "\n",
    "By now you’ve asked a bunch of questions, and found some neat insights. \n",
    "* Is there an interesting narrative that tells a compelling story? \n",
    "* What are some other trends/relationships you think will make it more complete?\n",
    "\n",
    "Submission Requirements: The notebook should contain:\n",
    "\n",
    "* The questions you asked\n",
    "* The trends you investigated\n",
    "* The resulting visualizations and conclusions.\n",
    "\n",
    "If the data set is too large to commit, please include a link to the data set inside the Jupyter notebook."
   ]
  },
  {
   "cell_type": "markdown",
   "metadata": {
    "collapsed": true
   },
   "source": [
    "### Exploring All Variables with Age\n",
    "Because of the year variable is an interest, this will focus on the interactions the attribute `year` has on other variables.  This will help lead to a story that may reflect the true nature of the dataset!"
   ]
  },
  {
   "cell_type": "code",
   "execution_count": null,
   "metadata": {
    "collapsed": true
   },
   "outputs": [],
   "source": [
    "# As for birth year, notice how long the birth year gap is\n",
    "df['birth year'].value_counts().sort_values()"
   ]
  },
  {
   "cell_type": "code",
   "execution_count": null,
   "metadata": {
    "collapsed": true
   },
   "outputs": [],
   "source": [
    "# Comparing birth year to trip duration\n",
    "plt.scatter(df['birth year'], df['tripduration'])\n",
    "plt.xlabel('Birth Year')\n",
    "plt.ylabel('Trip Duration')\n",
    "plt.yscale('log')\n",
    "plt.show()"
   ]
  },
  {
   "cell_type": "code",
   "execution_count": null,
   "metadata": {
    "collapsed": true
   },
   "outputs": [],
   "source": []
  },
  {
   "cell_type": "code",
   "execution_count": null,
   "metadata": {
    "collapsed": true
   },
   "outputs": [],
   "source": []
  },
  {
   "cell_type": "code",
   "execution_count": null,
   "metadata": {
    "collapsed": true
   },
   "outputs": [],
   "source": []
  },
  {
   "cell_type": "code",
   "execution_count": null,
   "metadata": {
    "collapsed": true
   },
   "outputs": [],
   "source": []
  },
  {
   "cell_type": "code",
   "execution_count": null,
   "metadata": {
    "collapsed": true
   },
   "outputs": [],
   "source": []
  },
  {
   "cell_type": "code",
   "execution_count": null,
   "metadata": {
    "collapsed": true
   },
   "outputs": [],
   "source": []
  },
  {
   "cell_type": "code",
   "execution_count": null,
   "metadata": {
    "collapsed": true
   },
   "outputs": [],
   "source": []
  },
  {
   "cell_type": "code",
   "execution_count": null,
   "metadata": {
    "collapsed": true
   },
   "outputs": [],
   "source": []
  },
  {
   "cell_type": "markdown",
   "metadata": {},
   "source": [
    "## References\n",
    "1. Silva, Luis Vale.  \"Exploring NYC's Citbike: Or How to Make Interactive Maps with Python and Folium.\" *Data Simple.* Start 11/01/2015. Access 09/01/2017. URL: http://luisvalesilva.com/datasimple/citibike.html\n",
    "2. Jake VanderPlas.  \"Analyzing Pronto Cycleshare Data with Python and Pandas.\"  *Pythonic Perambulations.* Start 10/17/2015.  Access 09/09/2017. URL: https://jakevdp.github.io/blog/2015/10/17/analyzing-pronto-cycleshare-data-with-python-and-pandas/"
   ]
  },
  {
   "cell_type": "code",
   "execution_count": 291,
   "metadata": {
    "collapsed": true
   },
   "outputs": [],
   "source": [
    "# organize year by age group\n",
    "# age group vs count(trips): gender\n",
    "# age group by count(trips): subscribers\n",
    "\n",
    "# 3D contour time vs age group vs count\n",
    "# hypothesis"
   ]
  },
  {
   "cell_type": "code",
   "execution_count": null,
   "metadata": {
    "collapsed": true
   },
   "outputs": [],
   "source": []
  }
 ],
 "metadata": {
  "kernelspec": {
   "display_name": "Python 3",
   "language": "python",
   "name": "python3"
  },
  "language_info": {
   "codemirror_mode": {
    "name": "ipython",
    "version": 3
   },
   "file_extension": ".py",
   "mimetype": "text/x-python",
   "name": "python",
   "nbconvert_exporter": "python",
   "pygments_lexer": "ipython3",
   "version": "3.6.1"
  }
 },
 "nbformat": 4,
 "nbformat_minor": 2
}
